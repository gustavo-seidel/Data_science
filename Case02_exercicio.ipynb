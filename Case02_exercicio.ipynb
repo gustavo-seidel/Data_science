{
  "nbformat": 4,
  "nbformat_minor": 0,
  "metadata": {
    "colab": {
      "provenance": [],
      "collapsed_sections": [
        "hV_a9S74iTED",
        "jkILMw8goQn3",
        "B7MxI1gnoTz7",
        "-QabZVAQoUFL",
        "uty5CIm8oUVK",
        "cTGSdsFQoUkz",
        "HvRwcxM6oUxz",
        "8AvhhArioVkp"
      ],
      "toc_visible": true
    },
    "kernelspec": {
      "name": "python3",
      "display_name": "Python 3"
    },
    "language_info": {
      "name": "python"
    }
  },
  "cells": [
    {
      "cell_type": "markdown",
      "source": [
        "Atualmente, Python é uma das linguagens de progrmação mais utilizadas no Mundo. Isso devido a sua alta curva de aprendizagem, tipografia dinamica, agilidade e grande apoio da comunidade. Mas como toda e qualquer linguagem, aprender, entender e aplicar seus conceitos básicos é algo essencial na carreira de quem está iniciando na área. Vamos explorar alguns dos conceitos de maneira prática, explorando desde tipo de variáveis, listas, dicionários, iteráveis e funções. \n",
        "\n",
        "Você deve então, para revisar esses conceitos, responder as 10 questões abaixo:\n",
        "* 1 - Imprima os n primeiros números impares\n",
        "* 2 - Crie uma lista que contenha o nome (um item da lista) e o sobrenome (outro item da lista)\n",
        "* 3 - Crie uma função, que receba essa lista e conte o número total de vogais do nome e sobrenome juntos.\n",
        "* 4 - Utilizando a lista abaixo, ordene a lista de forma descrecente. Retire o máximo, mínimo, média (sem utilizar bibliotecas, somente com for/ while)\n",
        "  ```\n",
        "  lista = [1,3,5,7,8,1,2,3,4,5,7,8,10,-1,3,4]\n",
        "  ```\n",
        "* 5 - Cria uma função para verificar se um número é primo.\n",
        "* 6 - Crie um código que cria um dicionário onde cada chave representa um registro. Dentro desse dicionário, crie outro dicinário com chaves Nome, Idade, Renda e Cargo.\n",
        "* 7 -  Um número é dito perfeito quando ele é igual a soma de seus fatores (Menores primos). Por exemplo, os fatores de 6 são 1, 2 e 3 e 6=1+2+3, logo 6 é um número perfeito. 10 por exemplo tem os fatores 2 e 5, 2 + 5 = 7, logo não é perfeito. Escreva uma função que recebe um inteiro e dizer se é perfeito ou não.\n",
        "* 8 - Crie uma função que necessite a inserção de um número inteiro e um parâmetro de teste (deixe como padrão da função p).\n",
        "  * Quando parametro for p = Testar se é par\n",
        "  * Quando parametro for i = Testar se é impar\n",
        "  * Quando parametro for um número = Testar se o primeiro número é divisivel pelo primeiro\n",
        "  * Como saída da função, dele deve retornar uma tupla com o número inserido, o test e o valor do teste (Verdadeiro ou Falso)\n",
        "* 9 - Crie uma função que dado um valor de X, compute o resultado da função. Sabendo que uma das raizes está entre 0 e 1, crie uma função que calcule o valor dessa raiz. Dica: se quiser ajuda em como montar a segunda função, procure por método da bissecção.\n",
        "$$f(x) = x^5 - \\frac{x^4}{2x-4} -x^2 + 3x - 1$$\n",
        "* 10 - Nas próximas etapas, vocês irão aprender a montar/ criar uma Dataframe (Estrutura muito parecida com uma planilha de excel, imagem baixo). Uma forma de vc montar sua própria versão é utilizando um dicionário de lista. Crie você um dicionário onde cada chave representa o nome de uma coluna e o valor de cada chave é uma lista com os atributos. Reproduza a tabela abaixo nessa estrutura.\n",
        "\n",
        "  ![img](https://miro.medium.com/max/506/1*pJjjHNL_P0TgUMfJ0Ihvpw.png)\n"
      ],
      "metadata": {
        "id": "iyeJnD-scFSv"
      }
    },
    {
      "cell_type": "markdown",
      "source": [
        "## 1 - Imprima os n primeiros números impares"
      ],
      "metadata": {
        "id": "hV_a9S74iTED"
      }
    },
    {
      "cell_type": "markdown",
      "source": [
        "## 2 - Crie uma lista que contenha o nome (um item da lista) e o sobrenome (outro item da lista)."
      ],
      "metadata": {
        "id": "jkILMw8goQn3"
      }
    },
    {
      "cell_type": "markdown",
      "source": [
        "## 3 - Crie uma função, que receba essa lista e conte o número total de vogais do nome e sobrenome juntos."
      ],
      "metadata": {
        "id": "B7MxI1gnoTz7"
      }
    },
    {
      "cell_type": "markdown",
      "source": [
        "## 4 - Utilizando a lista abaixo, ordene a lista de forma descrecente. Retire o máximo, mínimo, média (sem utilizar bibliotecas, somente com for/ while)\n",
        "```\n",
        "lista = [1,3,5,7,8,1,2,3,4,5,7,8,10,-1,3,4]\n",
        "```\n",
        "\n"
      ],
      "metadata": {
        "id": "-QabZVAQoUFL"
      }
    },
    {
      "cell_type": "markdown",
      "source": [
        "## 5 - Cria uma função para verificar se um número é primo."
      ],
      "metadata": {
        "id": "uty5CIm8oUVK"
      }
    },
    {
      "cell_type": "markdown",
      "source": [
        "## 6 - Crie um código que cria um dicionário onde cada chave representa um registro. Dentro desse dicionário, crie outro dicinário com chaves Nome, Idade, Renda e Cargo."
      ],
      "metadata": {
        "id": "cTGSdsFQoUkz"
      }
    },
    {
      "cell_type": "markdown",
      "source": [
        "## 7 -  Um número é dito perfeito quando ele é igual a soma de seus fatores (Menores primos). Por exemplo, os fatores de 6 são 1, 2 e 3 e 6=1+2+3, logo 6 é um número perfeito. 10 por exemplo tem os fatores 2 e 5, 2 + 5 = 7, logo não é perfeito. Escreva uma função que recebe um inteiro e dizer se é perfeito ou não."
      ],
      "metadata": {
        "id": "HvRwcxM6oUxz"
      }
    },
    {
      "cell_type": "markdown",
      "source": [
        "## 8 - Crie uma função que necessite a inserção de um número inteiro e um parâmetro de teste (deixe como padrão da função p).\n",
        "  * Quando parametro for p = Testar se é par\n",
        "  * Quando parametro for i = Testar se é impar\n",
        "  * Quando parametro for um número = Testar se o primeiro número é divisivel pelo primeiro\n",
        "  * Como saída da função, dele deve retornar uma tupla com o número inserido, o test e o valor do teste (Verdadeiro ou Falso)"
      ],
      "metadata": {
        "id": "PNjTz0gfoVBI"
      }
    },
    {
      "cell_type": "markdown",
      "source": [
        "## 9 - Crie uma função que dado um valor de X, compute o resultado da função. Sabendo que uma das raizes está entre 0 e 1, crie uma função que calcule o valor dessa raiz. Dica: se quiser ajuda em como montar a segunda função, procure por método da bissecção.\n",
        "$$f(x) = x^5 - \\frac{x^4}{2x-4} -x^2 + 3x - 1$$\n",
        " "
      ],
      "metadata": {
        "id": "8AvhhArioVkp"
      }
    },
    {
      "cell_type": "markdown",
      "source": [
        "## 10 - Nas próximas etapas, vocês irão aprender a montar/ criar uma Dataframe (Estrutura muito parecida com uma planilha de excel, imagem baixo). Uma forma de vc montar sua própria versão é utilizando um dicionário de lista. Crie você um dicionário onde cada chave representa o nome de uma coluna e o valor de cada chave é uma lista com os atributos. Reproduza a tabela abaixo nessa estrutura.\n",
        "\n",
        "![img](https://miro.medium.com/max/506/1*pJjjHNL_P0TgUMfJ0Ihvpw.png)"
      ],
      "metadata": {
        "id": "sDm_pjNwob3K"
      }
    }
  ]
}