{
  "nbformat": 4,
  "nbformat_minor": 0,
  "metadata": {
    "colab": {
      "provenance": [],
      "collapsed_sections": [
        "dnNgE5GFV5GF",
        "QdSMcWhVlg1f",
        "eMjrGwpZpXP6",
        "hV_a9S74iTED",
        "pQWVpaHKWbTs",
        "g7_XQWAliWFa"
      ],
      "toc_visible": true
    },
    "kernelspec": {
      "name": "python3",
      "display_name": "Python 3"
    },
    "language_info": {
      "name": "python"
    }
  },
  "cells": [
    {
      "cell_type": "markdown",
      "source": [
        "Atualmente, Python é uma das linguagens de progrmação mais utilizadas no Mundo. Isso devido a sua alta curva de aprendizagem, tipografia dinamica, agilidade e grande apoio da comunidade. Mas como toda e qualquer linguagem, aprender, entender e aplicar seus conceitos básicos é algo essencial na carreira de quem está iniciando na área. Vamos explorar alguns dos conceitos de maneira prática, explorando desde tipo de variáveis, print, tuplas, operações aritméticas e lógicas e ao final, construir uma utilização simples com tudo isso: A impressão de uma notinha fiscal. Você deve então, para revisar esses conceitos, responder as 10 questões abaixo:\n",
        "* 1 - Peça ao usuário para inserir o valor da compra e em seguida em quantas vezes ele quer parcelar a compra. Ao final, imprima essas informações e o valor de cada parcela.\n",
        "* 2 - Qual diferença entre realizarmos a operação 2 * 4 e '2' * 4?\n",
        "* 3 - Crie um algoritmo simples que calcule se o número inserido é multiplo de 2 e 3 ao mesmo tempo. (O número deve ser sempre inteiro)\n",
        "* 4 - Utilizando as informações abaixo, calcule a função f(x,y,z) para estas 3 variáveis.\n",
        "\n",
        "  $x = 2$\n",
        "\n",
        "  $y = 0.5$\n",
        "\n",
        "  $z = 12$\n",
        "\n",
        "  $f(x,y,z) = \\frac{x^2-z}{yz}+xyz$\n",
        "\n",
        "* 5 - Escreva os nomes Thiago, Ana e Luiz, separado entre | com espaçamento de 15 caracteres. Mantenha os nomes centralizados.\n",
        "* 6 - Peça para o usuário inserir 3 produtos e em seguida inserir 3 valores (de cada produto). Armazene cada conjunto de dados (produto, valor) em uma tupla.\n",
        "* 7 - Faça um código para somar o valor dos produtos (usando a estrutura de tupla) e sem seguida peça o número de parcelas que o usuário quer dividir a compra. Usando uma taxa de juros de 1.5% (Todas as parcelas com execeção da primeira tem um aumento de 1.5% em seu valor). Calcule o valor inicial (Sem o parcelamento) e o final (Com parcelamento)\n",
        "* 8 - Construa utilizando a função print a imagem abaixo (Um \"retângulo\" com os números de 1 a 9 dentro. Perceba que os números estão igualmente espaçados e centralizados em um espaço determinado de 5 caracteres. Já a largura do retângulo tem um máximo de 17 caracteres.\n",
        "![image.png](data:image/png;base64,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)\n",
        "\n",
        "\n",
        "\n"
      ],
      "metadata": {
        "id": "iyeJnD-scFSv"
      }
    },
    {
      "cell_type": "markdown",
      "source": [
        "## 1 - Peça ao usuário para inserir o valor da compra e em seguida em quantas vezes ele quer parcelar a compra. Ao final, imprima essas informações e o valor de cada parcela."
      ],
      "metadata": {
        "id": "dnNgE5GFV5GF"
      }
    },
    {
      "cell_type": "code",
      "source": [
        "valor = float(input('Qual o valor da Compra (R$): '))\n",
        "n = int(input('Em quantas vezes deseja parcelar?: '))\n",
        "\n",
        "print(f''' \n",
        "\n",
        "Valor total da Compra: R${valor:.2f}\n",
        "Número de parcelas: {n}\n",
        "Valor por parcela: {valor/n:.2f}\n",
        "\n",
        "''')"
      ],
      "metadata": {
        "id": "DKku3lgtV4m7",
        "colab": {
          "base_uri": "https://localhost:8080/"
        },
        "outputId": "917bd651-9599-4b54-dd9a-a67faadfd794"
      },
      "execution_count": null,
      "outputs": [
        {
          "output_type": "stream",
          "name": "stdout",
          "text": [
            "Qual o valor da Compra (R$): 13.5\n",
            "Em quantas vezes deseja parcelar?: 5\n",
            " \n",
            "\n",
            "Valor total da Compra: R$13.50\n",
            "Número de parcelas: 5\n",
            "Valor por parcela: 2.70\n",
            "\n",
            "\n"
          ]
        }
      ]
    },
    {
      "cell_type": "markdown",
      "source": [
        "## 2 - Qual diferença entre realizarmos a operação 2 * 4 e '2' * 4?"
      ],
      "metadata": {
        "id": "QdSMcWhVlg1f"
      }
    },
    {
      "cell_type": "code",
      "source": [
        "print(2*4)\n",
        "print('2'*4)\n",
        "\n",
        "# Resposta: A principal diferença é que uma estamos fazendo uma operação matemática e na outra estamoas fazendo\n",
        "# concatenação de strings"
      ],
      "metadata": {
        "colab": {
          "base_uri": "https://localhost:8080/"
        },
        "id": "iTZSqPOIlgmH",
        "outputId": "21c97d15-4d88-412a-85d7-cdc858bee320"
      },
      "execution_count": null,
      "outputs": [
        {
          "output_type": "stream",
          "name": "stdout",
          "text": [
            "8\n",
            "2222\n"
          ]
        }
      ]
    },
    {
      "cell_type": "markdown",
      "source": [
        "## 3 - Crie um algoritmo simples que calcule se o número inserido é multiplo de 2 e 3 ao mesmo tempo. (O número deve ser sempre inteiro)"
      ],
      "metadata": {
        "id": "eMjrGwpZpXP6"
      }
    },
    {
      "cell_type": "code",
      "source": [
        "num = int(input('Insira o número: '))\n",
        "\n",
        "if num % 6 == 0:\n",
        "  print('O numéro {} é divisível por 2 e por 3'.format(num))\n",
        "else:\n",
        "  print('O numéro {} é não divisível por 2 e por 3'.format(num))"
      ],
      "metadata": {
        "colab": {
          "base_uri": "https://localhost:8080/"
        },
        "id": "if-NpIGmlgZe",
        "outputId": "135e66c2-13a1-4533-a612-67cefb8fff85"
      },
      "execution_count": null,
      "outputs": [
        {
          "output_type": "stream",
          "name": "stdout",
          "text": [
            "Insira o número: 12\n",
            "O numéro 12 é divisível por 2 e por 3\n"
          ]
        }
      ]
    },
    {
      "cell_type": "markdown",
      "source": [
        "## 4 - Utilizando as informações abaixo, calcule a função f(x,y,z) para estas 3 variáveis.\n",
        "\n",
        "$x = 2$\n",
        "\n",
        "$y = 0.5$\n",
        "\n",
        "$z = 12$\n",
        "\n",
        "$f(x,y,z) = \\frac{x^2-z}{yz}+xyz$"
      ],
      "metadata": {
        "id": "hV_a9S74iTED"
      }
    },
    {
      "cell_type": "code",
      "source": [
        "x = 2\n",
        "y = 0.5\n",
        "z = 12\n",
        "\n",
        "print((x**2-z)/(y*z)+x*y*z)"
      ],
      "metadata": {
        "colab": {
          "base_uri": "https://localhost:8080/"
        },
        "id": "3Nz-kOv4iZvk",
        "outputId": "d8d7c42a-fdc3-4b4e-9744-8608fd37b422"
      },
      "execution_count": null,
      "outputs": [
        {
          "output_type": "stream",
          "name": "stdout",
          "text": [
            "10.666666666666666\n"
          ]
        }
      ]
    },
    {
      "cell_type": "markdown",
      "source": [
        "## 5 - Escreva os nomes Thiago, Ana e Luiz, separado entre | com espaçamento de 15 caracteres. Mantenha os nomes centralizados."
      ],
      "metadata": {
        "id": "pQWVpaHKWbTs"
      }
    },
    {
      "cell_type": "code",
      "source": [
        "'|{:^15}|{:^15}|{:^15}|'.format('Thiago', 'Ana', 'Luiz')\n"
      ],
      "metadata": {
        "id": "y1fFL6k-WdTN",
        "colab": {
          "base_uri": "https://localhost:8080/"
        },
        "outputId": "5044042d-814d-4588-807e-8499d6092dd6"
      },
      "execution_count": null,
      "outputs": [
        {
          "output_type": "execute_result",
          "data": {
            "text/plain": [
              "'|    Thiago     |      Ana      |     Luiz      |'"
            ],
            "application/vnd.google.colaboratory.intrinsic+json": {
              "type": "string"
            }
          },
          "metadata": {},
          "execution_count": 10
        }
      ]
    },
    {
      "cell_type": "markdown",
      "source": [
        "## 6 - Peça para o usuário inserir 3 produtos e em seguida inserir 3 valores (de cada produto). Armazene cada conjunto de dados (produto, valor) em uma tupla."
      ],
      "metadata": {
        "id": "g7_XQWAliWFa"
      }
    },
    {
      "cell_type": "code",
      "source": [
        "t1 = (input('Insira o produto 1: '),float(input('Insira valor do produto 1: ')))\n",
        "t2 = (input('Insira o produto 2: '),float(input('Insira valor do produto 2: ')))\n",
        "t3 = (input('Insira o produto 3: '),float(input('Insira valor do produto 3: ')))"
      ],
      "metadata": {
        "id": "YRuNvfhMj2k2",
        "colab": {
          "base_uri": "https://localhost:8080/"
        },
        "outputId": "5323a75c-dfd6-4564-91ec-466e3b620017"
      },
      "execution_count": null,
      "outputs": [
        {
          "name": "stdout",
          "output_type": "stream",
          "text": [
            "Insira o produto 1: Arroz\n",
            "Insira valor do produto 1: 10.2\n",
            "Insira o produto 2: P\n",
            "Insira valor do produto 2: 2.5\n",
            "Insira o produto 3: L\n",
            "Insira valor do produto 3: 1000\n"
          ]
        }
      ]
    },
    {
      "cell_type": "code",
      "source": [
        "t1"
      ],
      "metadata": {
        "colab": {
          "base_uri": "https://localhost:8080/"
        },
        "id": "hSEJM65arCRP",
        "outputId": "333d399f-17ac-4843-9337-c8425b312acf"
      },
      "execution_count": null,
      "outputs": [
        {
          "output_type": "execute_result",
          "data": {
            "text/plain": [
              "('Arroz', 10.2)"
            ]
          },
          "metadata": {},
          "execution_count": 2
        }
      ]
    },
    {
      "cell_type": "markdown",
      "source": [
        "# 7 - Faça um código para somar o valor dos produtos (usando a estrutura de tupla) e sem seguida peça o número de parcelas que o usuário quer dividir a compra. Usando uma taxa de juros de 1.5% (Todas as parcelas com execeção da primeira tem um aumento de 1.5% em seu valor). Calcule o valor inicial (Sem o parcelamento) e o final (Com parcelamento)"
      ],
      "metadata": {
        "id": "WqBj2XqNrZNF"
      }
    },
    {
      "cell_type": "code",
      "source": [
        "total = t1[1] + t2[1] + t3[1]\n",
        "\n",
        "n = int(input('Quer dividir em quantas vezes? '))\n",
        "\n",
        "parcela = total/n\n",
        "\n",
        "total_parc = parcela + 1.015*(n-1)*parcela\n",
        "\n",
        "print(f'Valor incial: {total}')\n",
        "print(f'Valor final: {total_parc}')"
      ],
      "metadata": {
        "colab": {
          "base_uri": "https://localhost:8080/"
        },
        "id": "Q6iysTpurVno",
        "outputId": "e33f41e2-9915-4c01-923d-dae10cee281d"
      },
      "execution_count": null,
      "outputs": [
        {
          "output_type": "stream",
          "name": "stdout",
          "text": [
            "Quer dividir em quantas vezes? 5\n",
            "Valor incial: 1012.7\n",
            "Valor final: 1024.8524\n"
          ]
        }
      ]
    },
    {
      "cell_type": "markdown",
      "source": [
        "# 8 - Construa utilizando a função print a imagem abaixo (Um \"retângulo\" com os números de 1 a 9 dentro. Perceba que os números estão igualmente espaçados e centralizados em um espaço determinado de 5 caracteres. Já a largura do retângulo tem um máximo de 17 caracteres.\n",
        "![image.png](data:image/png;base64,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)"
      ],
      "metadata": {
        "id": "vWYVrkKlrc6L"
      }
    },
    {
      "cell_type": "code",
      "source": [
        "print('-'*17)\n",
        "print('|{:^5}{:^5}{:^5}|'.format(1,2,3))\n",
        "print('|{:^5}{:^5}{:^5}|'.format(4,5,6))\n",
        "print('|{:^5}{:^5}{:^5}|'.format(7,8,9))\n",
        "print('-'*17)"
      ],
      "metadata": {
        "colab": {
          "base_uri": "https://localhost:8080/"
        },
        "id": "NLV1U3tAuJSM",
        "outputId": "347a7f2e-6596-4538-d78f-7dbf295f3081"
      },
      "execution_count": null,
      "outputs": [
        {
          "output_type": "stream",
          "name": "stdout",
          "text": [
            "-----------------\n",
            "|  1    2    3  |\n",
            "|  4    5    6  |\n",
            "|  7    8    9  |\n",
            "-----------------\n"
          ]
        }
      ]
    },
    {
      "cell_type": "markdown",
      "source": [
        "# 9 - Repita o processo anterior (Questão 8) porém o usuário deve colocar a largura do retangulo e o código deve automaticamente calcular o espaçamento entre os números."
      ],
      "metadata": {
        "id": "8ndIZXVYrej1"
      }
    },
    {
      "cell_type": "code",
      "source": [
        "larg = int(input('Insira a largura do retângulo: '))\n",
        "espa = (larg - 2)//3\n",
        "\n",
        "\n",
        "print('-'*larg)\n",
        "print(f'|{1:^{espa}}{2:^{espa}}{3:^{espa}}|')\n",
        "print(f'|{4:^{espa}}{5:^{espa}}{6:^{espa}}|')\n",
        "print(f'|{7:^{espa}}{8:^{espa}}{9:^{espa}}|')\n",
        "print('-'*larg)"
      ],
      "metadata": {
        "colab": {
          "base_uri": "https://localhost:8080/"
        },
        "id": "_PvVbmMAxbz1",
        "outputId": "d67d2a45-1f94-49f5-a5a9-aa6808a0447e"
      },
      "execution_count": null,
      "outputs": [
        {
          "output_type": "stream",
          "name": "stdout",
          "text": [
            "Insira a largura do retângulo: 20\n",
            "--------------------\n",
            "|  1     2     3   |\n",
            "|  4     5     6   |\n",
            "|  7     8     9   |\n",
            "--------------------\n"
          ]
        }
      ]
    },
    {
      "cell_type": "markdown",
      "source": [
        "# 10 - Agora que trabalhamos operações matemáticas, lógicas e print, vamos simular uma compra e a impressão da nota fiscal.\n",
        "  * a - Usuário deve inserir 3 produtos e seus valores em um formato de tupla\n",
        "  * b - Usuário deve informar quanto dinheiro tem disponível na sua carteira\n",
        "  * c - Pergunte se quer pagar no débito ou no crédito (Parcelado).\n",
        "  * d - Se a opção for crédito, pergunte o número de parcelas e calcule o valor final (Com juros de 2.5% em cima das parcelas - igual ao exercício 7).\n",
        "  * e - Imprima os produtos alinhados a esquerda e valores alinhados a direita semelhante a uma nota fiscal de supermercado.\n",
        "  * f - Dependendo da opção desejada, imprima: Débito - Valor antes da compra, total da compra e o quanto sobrou de dinheiro, tudo isso alinhado a direita. Crédito - Valor inicial, número de parcelas, valor final, valor de cada parcela (conta a partir da segunda) e desconte o valor da primeira parcela (que é menor) da carteira.\n"
      ],
      "metadata": {
        "id": "sItEf7P0rfRJ"
      }
    },
    {
      "cell_type": "code",
      "source": [
        "t1 = (input('Insira o produto 1: '),float(input('Insira valor do produto 1: ')))\n",
        "t2 = (input('Insira o produto 2: '),float(input('Insira valor do produto 2: ')))\n",
        "t3 = (input('Insira o produto 3: '),float(input('Insira valor do produto 3: ')))\n",
        "\n",
        "carteira = float(input('Insira quanto de dinheiro tem disponível: '))\n",
        "\n",
        "total = t1[1] + t2[1] + t3[1]"
      ],
      "metadata": {
        "colab": {
          "base_uri": "https://localhost:8080/"
        },
        "id": "8P1QjKoNBL3Q",
        "outputId": "66649855-726b-44e4-fd88-2568d9be75ff"
      },
      "execution_count": null,
      "outputs": [
        {
          "name": "stdout",
          "output_type": "stream",
          "text": [
            "Insira o produto 1: Arroz\n",
            "Insira valor do produto 1: 11.5\n",
            "Insira o produto 2: Leite\n",
            "Insira valor do produto 2: 8.75\n",
            "Insira o produto 3: PS4\n",
            "Insira valor do produto 3: 4500.00\n",
            "Insira quanto de dinheiro tem disponível: 10000\n"
          ]
        }
      ]
    },
    {
      "cell_type": "code",
      "source": [
        "\n",
        "opcao = input('Irá pagar no Débito (D) ou Crédito (C)?')\n",
        "\n",
        "\n",
        "\n",
        "if opcao.upper() == 'D':\n",
        "  carteira_final = carteira - total\n",
        "  print('-'*50)\n",
        "  print(f\"\"\"{'Nota fiscal':^50}\"\"\")\n",
        "  print('-'*50)\n",
        "  print('Produto: {:.<25} Valor: {}'.format(t1[0],t1[1]))\n",
        "  print('Produto: {:.<25} Valor: {}'.format(t2[0],t2[1]))\n",
        "  print('Produto: {:.<25} Valor: {}'.format(t3[0],t3[1]))\n",
        "  print('-'*50)\n",
        "  print('{:.>50}'.format(' Total: '+str(total)))\n",
        "  print('{:.>50}'.format(' Carteira: '+str(carteira)))\n",
        "  print('{:.>50}'.format(' Restante: '+str(carteira_final)))\n",
        "\n",
        "\n",
        "elif opcao.upper() == 'C':\n",
        "  n = int(input('Quer dividir em quantas vezes? '))\n",
        "\n",
        "  parcela = total/n\n",
        "\n",
        "  total_parc = parcela + 1.025*(n-1)*parcela\n",
        "  carteira_final = carteira - parcela\n",
        "  print('-'*50)\n",
        "  print(f\"\"\"{'Nota fiscal':^50}\"\"\")\n",
        "  print('-'*50)\n",
        "  print('Produto: {:.<25} Valor: {}'.format(t1[0],t1[1]))\n",
        "  print('Produto: {:.<25} Valor: {}'.format(t2[0],t2[1]))\n",
        "  print('Produto: {:.<25} Valor: {}'.format(t3[0],t3[1]))\n",
        "  print('-'*50)\n",
        "  print('{:.>50}'.format(' Total inicial: '+str(total)))\n",
        "  print('{:.>50}'.format(' Total final: '+str(total_parc)))\n",
        "  print('{:.>50}'.format(' Carteira: '+str(carteira)))\n",
        "  print('{:.>50}'.format(' Restante: '+str(carteira_final)))\n",
        "  print('{:.>50}'.format(' Parcela: '+str(n-1)+' vezes de ' + str(1.0253*parcela)))\n",
        "  \n",
        "\n",
        "\n",
        "else:\n",
        "  print('Essa opção Não existe, selcionar Débito (D) ou Crédito (C)')\n",
        "\n",
        "\n",
        "\n",
        "# print('-'*larg)\n",
        "# print(f'|{1:^{espa}}{2:^{espa}}{3:^{espa}}|')\n",
        "# print(f'|{4:^{espa}}{5:^{espa}}{6:^{espa}}|')\n",
        "# print(f'|{7:^{espa}}{8:^{espa}}{9:^{espa}}|')\n",
        "# print('-'*larg)"
      ],
      "metadata": {
        "colab": {
          "base_uri": "https://localhost:8080/"
        },
        "id": "YuL5DmElzZtj",
        "outputId": "8f9e7932-8c74-47e7-f73a-e1d9a8ce22f2"
      },
      "execution_count": null,
      "outputs": [
        {
          "output_type": "stream",
          "name": "stdout",
          "text": [
            "Irá pagar no Débito (D) ou Crédito (C)?C\n",
            "--------------------------------------------------\n",
            "                   Nota fiscal                    \n",
            "--------------------------------------------------\n",
            "Quer dividir em quantas vezes? 3\n",
            "Produto: Arroz.................... Valor: 11.5\n",
            "Produto: Leite.................... Valor: 8.75\n",
            "Produto: PS4...................... Valor: 4500.0\n",
            "--------------------------------------------------\n",
            "........................... Total inicial: 4520.25\n",
            "........................... Total final: 4595.5875\n",
            "................................ Carteira: 10000.0\n",
            "................................ Restante: 8493.25\n",
            "........... Parcela: 2 vezes de 1544.4187499999998\n"
          ]
        }
      ]
    }
  ]
}