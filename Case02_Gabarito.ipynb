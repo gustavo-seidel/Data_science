{
  "nbformat": 4,
  "nbformat_minor": 0,
  "metadata": {
    "colab": {
      "provenance": [],
      "collapsed_sections": [
        "hV_a9S74iTED",
        "jkILMw8goQn3",
        "B7MxI1gnoTz7",
        "-QabZVAQoUFL",
        "uty5CIm8oUVK",
        "cTGSdsFQoUkz",
        "HvRwcxM6oUxz",
        "8AvhhArioVkp"
      ],
      "toc_visible": true
    },
    "kernelspec": {
      "name": "python3",
      "display_name": "Python 3"
    },
    "language_info": {
      "name": "python"
    }
  },
  "cells": [
    {
      "cell_type": "markdown",
      "source": [
        "Atualmente, Python é uma das linguagens de progrmação mais utilizadas no Mundo. Isso devido a sua alta curva de aprendizagem, tipografia dinamica, agilidade e grande apoio da comunidade. Mas como toda e qualquer linguagem, aprender, entender e aplicar seus conceitos básicos é algo essencial na carreira de quem está iniciando na área. Vamos explorar alguns dos conceitos de maneira prática, explorando desde tipo de variáveis, listas, dicionários, iteráveis e funções. \n",
        "\n",
        "Você deve então, para revisar esses conceitos, responder as 10 questões abaixo:\n",
        "* 1 - Imprima os n primeiros números impares\n",
        "* 2 - Crie uma lista que contenha o nome (um item da lista) e o sobrenome (outro item da lista)\n",
        "* 3 - Crie uma função, que receba essa lista e conte o número total de vogais do nome e sobrenome juntos.\n",
        "* 4 - Utilizando a lista abaixo, ordene a lista de forma descrecente. Retire o máximo, mínimo, média (sem utilizar bibliotecas, somente com for/ while)\n",
        "  ```\n",
        "  lista = [1,3,5,7,8,1,2,3,4,5,7,8,10,-1,3,4]\n",
        "  ```\n",
        "* 5 - Cria uma função para verificar se um número é primo.\n",
        "* 6 - Crie um código que cria um dicionário onde cada chave representa um registro. Dentro desse dicionário, crie outro dicinário com chaves Nome, Idade, Renda e Cargo.\n",
        "* 7 -  Um número é dito perfeito quando ele é igual a soma de seus fatores (Menores primos). Por exemplo, os fatores de 6 são 1, 2 e 3 e 6=1+2+3, logo 6 é um número perfeito. 10 por exemplo tem os fatores 2 e 5, 2 + 5 = 7, logo não é perfeito. Escreva uma função que recebe um inteiro e dizer se é perfeito ou não.\n",
        "* 8 - Crie uma função que necessite a inserção de um número inteiro e um parâmetro de teste (deixe como padrão da função p).\n",
        "  * Quando parametro for p = Testar se é par\n",
        "  * Quando parametro for i = Testar se é impar\n",
        "  * Quando parametro for um número = Testar se o primeiro número é divisivel pelo primeiro\n",
        "  * Como saída da função, dele deve retornar uma tupla com o número inserido, o test e o valor do teste (Verdadeiro ou Falso)\n",
        "* 9 - Crie uma função que dado um valor de X, compute o resultado da função. Sabendo que uma das raizes está entre 0 e 1, crie uma função que calcule o valor dessa raiz. Dica: se quiser ajuda em como montar a segunda função, procure por método da bissecção.\n",
        "$$f(x) = x^5 - \\frac{x^4}{2x-4} -x^2 + 3x - 1$$\n",
        "* 10 - Nas próximas etapas, vocês irão aprender a montar/ criar uma Dataframe (Estrutura muito parecida com uma planilha de excel, imagem baixo). Uma forma de vc montar sua própria versão é utilizando um dicionário de lista. Crie você um dicionário onde cada chave representa o nome de uma coluna e o valor de cada chave é uma lista com os atributos. Reproduza a tabela abaixo nessa estrutura.\n",
        "\n",
        "  ![img](https://miro.medium.com/max/506/1*pJjjHNL_P0TgUMfJ0Ihvpw.png)\n"
      ],
      "metadata": {
        "id": "iyeJnD-scFSv"
      }
    },
    {
      "cell_type": "markdown",
      "source": [
        "## 1 - Imprima os n primeiros números impares"
      ],
      "metadata": {
        "id": "hV_a9S74iTED"
      }
    },
    {
      "cell_type": "code",
      "source": [
        "n = int(input('Número de primeiros impares: '))\n",
        "\n",
        "for i in range(0,n):\n",
        "  if i != n-1:\n",
        "    print(2*i + 1,end=', ')\n",
        "  else:\n",
        "    print(2*i + 1)"
      ],
      "metadata": {
        "colab": {
          "base_uri": "https://localhost:8080/"
        },
        "id": "3Nz-kOv4iZvk",
        "outputId": "6b3a6353-092d-4242-dec9-0a5626fcb7b9"
      },
      "execution_count": null,
      "outputs": [
        {
          "output_type": "stream",
          "name": "stdout",
          "text": [
            "Número de primeiros impares: 5\n",
            "1,3,5,7,9\n"
          ]
        }
      ]
    },
    {
      "cell_type": "markdown",
      "source": [
        "## 2 - Crie uma lista que contenha o nome (um item da lista) e o sobrenome (outro item da lista)."
      ],
      "metadata": {
        "id": "jkILMw8goQn3"
      }
    },
    {
      "cell_type": "code",
      "source": [
        "lista = [input('Insira o nome: '), input('Insira o sobrenome: ')]"
      ],
      "metadata": {
        "colab": {
          "base_uri": "https://localhost:8080/"
        },
        "id": "omh8pQBOpVbc",
        "outputId": "8029c3b0-851f-4573-ed5e-0370fb36ffa3"
      },
      "execution_count": null,
      "outputs": [
        {
          "name": "stdout",
          "output_type": "stream",
          "text": [
            "Insira o nome: Thiago\n",
            "Insira o sobrenome: Lopes\n"
          ]
        }
      ]
    },
    {
      "cell_type": "markdown",
      "source": [
        "## 3 - Crie uma função, que receba essa lista e conte o número total de vogais do nome e sobrenome juntos."
      ],
      "metadata": {
        "id": "B7MxI1gnoTz7"
      }
    },
    {
      "cell_type": "code",
      "source": [
        "def count_vogal(lista):\n",
        "  nome = lista[0]\n",
        "  sobrenome = lista[1]\n",
        "\n",
        "  a = nome.count('a') + sobrenome.count('a')\n",
        "  e = nome.count('e') + sobrenome.count('e')\n",
        "  i = nome.count('i') + sobrenome.count('i')\n",
        "  o = nome.count('o') + sobrenome.count('o')\n",
        "  u = nome.count('u') + sobrenome.count('u')\n",
        "\n",
        "  total = a + e + i + o + u\n",
        "\n",
        "  return total\n",
        "\n",
        "count_vogal(lista)"
      ],
      "metadata": {
        "colab": {
          "base_uri": "https://localhost:8080/"
        },
        "id": "HXXf7pNqpV3y",
        "outputId": "08e47172-c74e-4cf5-c64b-d333f87ace27"
      },
      "execution_count": null,
      "outputs": [
        {
          "output_type": "execute_result",
          "data": {
            "text/plain": [
              "5"
            ]
          },
          "metadata": {},
          "execution_count": 12
        }
      ]
    },
    {
      "cell_type": "markdown",
      "source": [
        "## 4 - Utilizando a lista abaixo, ordene a lista de forma descrecente. Retire o máximo, mínimo, média (sem utilizar bibliotecas, somente com for/ while)\n",
        "```\n",
        "lista = [1,3,5,7,8,1,2,3,4,5,7,8,10,-1,3,4]\n",
        "```\n",
        "\n"
      ],
      "metadata": {
        "id": "-QabZVAQoUFL"
      }
    },
    {
      "cell_type": "code",
      "source": [
        "lista = [1,3,5,7,8,1,2,3,4,5,7,8,10,-1,3,4]\n",
        "lista = sorted(lista)\n",
        "print(max(lista))\n",
        "print(min(lista))\n",
        "\n",
        "sum = 0\n",
        "for i in range(0,len(lista)):\n",
        "  sum += lista[i]\n",
        "\n",
        "sum/len(lista)"
      ],
      "metadata": {
        "colab": {
          "base_uri": "https://localhost:8080/"
        },
        "id": "ej4zoqT6pWSe",
        "outputId": "fbf52481-0713-48f6-c11f-34807027b3a9"
      },
      "execution_count": null,
      "outputs": [
        {
          "output_type": "stream",
          "name": "stdout",
          "text": [
            "10\n",
            "-1\n"
          ]
        },
        {
          "output_type": "execute_result",
          "data": {
            "text/plain": [
              "4.375"
            ]
          },
          "metadata": {},
          "execution_count": 21
        }
      ]
    },
    {
      "cell_type": "markdown",
      "source": [
        "## 5 - Cria uma função para verificar se um número é primo."
      ],
      "metadata": {
        "id": "uty5CIm8oUVK"
      }
    },
    {
      "cell_type": "code",
      "source": [
        "def ver_primus(num):\n",
        "  for i in range(2,num):\n",
        "    if num % i == 0:\n",
        "      return f'O número {num} não é primo'\n",
        "\n",
        "  return f'O número {num} é primo'\n",
        "\n",
        "ver_primus(15)"
      ],
      "metadata": {
        "colab": {
          "base_uri": "https://localhost:8080/",
          "height": 35
        },
        "id": "ku0Q6tuKpWyJ",
        "outputId": "53171b7a-2316-4761-bfa4-8865693219c2"
      },
      "execution_count": null,
      "outputs": [
        {
          "output_type": "execute_result",
          "data": {
            "text/plain": [
              "'O número 15 não é primo'"
            ],
            "application/vnd.google.colaboratory.intrinsic+json": {
              "type": "string"
            }
          },
          "metadata": {},
          "execution_count": 28
        }
      ]
    },
    {
      "cell_type": "markdown",
      "source": [
        "## 6 - Crie um código que cria um dicionário onde cada chave representa um registro. Dentro desse dicionário, crie outro dicinário com chaves Nome, Idade, Renda e Cargo."
      ],
      "metadata": {
        "id": "cTGSdsFQoUkz"
      }
    },
    {
      "cell_type": "code",
      "source": [
        "dict_teste = {}\n",
        "n = int(input('Número de registros: '))\n",
        "for i in range(1,n+1):\n",
        "  dict_teste[i] = {\n",
        "    'Nome': input('Nome: '),\n",
        "    'Idade': int(input('Idade: ')),\n",
        "    'Renda': float(input('Renda: ')),\n",
        "    'Cargo': input('Cargo: ')\n",
        "  }"
      ],
      "metadata": {
        "colab": {
          "base_uri": "https://localhost:8080/"
        },
        "id": "O1FybTm9pXUC",
        "outputId": "09d8e621-4de0-406e-ed72-bba8ad2828bd"
      },
      "execution_count": null,
      "outputs": [
        {
          "name": "stdout",
          "output_type": "stream",
          "text": [
            "Número de registros: 3\n",
            "Nome: 1\n",
            "Idade: 2\n",
            "Renda: 3\n",
            "Cargo: 1\n",
            "Nome: 2\n",
            "Idade: 2\n",
            "Renda: 2\n",
            "Cargo: 2\n",
            "Nome: 3\n",
            "Idade: 3\n",
            "Renda: 3\n",
            "Cargo: 3\n"
          ]
        }
      ]
    },
    {
      "cell_type": "markdown",
      "source": [
        "## 7 -  Um número é dito perfeito quando ele é igual a soma de seus fatores (Menores primos). Por exemplo, os fatores de 6 são 1, 2 e 3 e 6=1+2+3, logo 6 é um número perfeito. 10 por exemplo tem os fatores 2 e 5, 2 + 5 = 7, logo não é perfeito. Escreva uma função que recebe um inteiro e dizer se é perfeito ou não."
      ],
      "metadata": {
        "id": "HvRwcxM6oUxz"
      }
    },
    {
      "cell_type": "code",
      "source": [
        "def perfeito(n):\n",
        "    soma=0\n",
        "    for val in range(1,n):\n",
        "        if n % val == 0:\n",
        "            soma += val\n",
        "\n",
        "    if soma==n:\n",
        "        return f'O número {n} é perfeito'\n",
        "    else:\n",
        "        return f'O número {n} não é perfeito'\n",
        "\n",
        "perfeito(10)"
      ],
      "metadata": {
        "colab": {
          "base_uri": "https://localhost:8080/",
          "height": 35
        },
        "id": "V5TZk27jpYr7",
        "outputId": "ba4cfd95-9e98-410e-d983-110370c5c872"
      },
      "execution_count": null,
      "outputs": [
        {
          "output_type": "execute_result",
          "data": {
            "text/plain": [
              "'O número 10 não é perfeito'"
            ],
            "application/vnd.google.colaboratory.intrinsic+json": {
              "type": "string"
            }
          },
          "metadata": {},
          "execution_count": 35
        }
      ]
    },
    {
      "cell_type": "markdown",
      "source": [
        "## 8 - Crie uma função que necessite a inserção de um número inteiro e um parâmetro de teste (deixe como padrão da função p).\n",
        "  * Quando parametro for p = Testar se é par\n",
        "  * Quando parametro for i = Testar se é impar\n",
        "  * Quando parametro for um número = Testar se o primeiro número é divisivel pelo primeiro\n",
        "  * Como saída da função, dele deve retornar uma tupla com o número inserido, o test e o valor do teste (Verdadeiro ou Falso)"
      ],
      "metadata": {
        "id": "PNjTz0gfoVBI"
      }
    },
    {
      "cell_type": "code",
      "source": [
        "def teste(num, test = 'p'):\n",
        "  if test == 'p':\n",
        "    comp = num % 2 == 0\n",
        "    return (num,test,comp)\n",
        "\n",
        "  elif test == 'i':\n",
        "    comp = num % 2 != 0\n",
        "    return (num,test,comp)\n",
        "  \n",
        "  else:\n",
        "    comp = num % test == 0\n",
        "    return (num,test,comp)\n",
        "\n",
        "teste(10)"
      ],
      "metadata": {
        "colab": {
          "base_uri": "https://localhost:8080/"
        },
        "id": "u1H9v_GrpYa3",
        "outputId": "c01248b4-d72e-4057-b4b1-8b445c178dcd"
      },
      "execution_count": null,
      "outputs": [
        {
          "output_type": "execute_result",
          "data": {
            "text/plain": [
              "(10, 'p', True)"
            ]
          },
          "metadata": {},
          "execution_count": 41
        }
      ]
    },
    {
      "cell_type": "code",
      "source": [
        "teste(10,'i')"
      ],
      "metadata": {
        "colab": {
          "base_uri": "https://localhost:8080/"
        },
        "id": "LT8K6Irw0xgt",
        "outputId": "177b07a8-db64-4ba9-d540-1c0eb0a72cdc"
      },
      "execution_count": null,
      "outputs": [
        {
          "output_type": "execute_result",
          "data": {
            "text/plain": [
              "(10, 'i', False)"
            ]
          },
          "metadata": {},
          "execution_count": 38
        }
      ]
    },
    {
      "cell_type": "code",
      "source": [
        "teste(10,test = 4)"
      ],
      "metadata": {
        "colab": {
          "base_uri": "https://localhost:8080/"
        },
        "id": "3aTOZTTC0yt4",
        "outputId": "b732bf6b-3e8f-4c7b-a323-129777a8bffa"
      },
      "execution_count": null,
      "outputs": [
        {
          "output_type": "execute_result",
          "data": {
            "text/plain": [
              "(10, 4, False)"
            ]
          },
          "metadata": {},
          "execution_count": 42
        }
      ]
    },
    {
      "cell_type": "markdown",
      "source": [
        "## 9 - Crie uma função que dado um valor de X, compute o resultado da função. Sabendo que uma das raizes está entre 0 e 1, crie uma função que calcule o valor dessa raiz. Dica: se quiser ajuda em como montar a segunda função, procure por método da bissecção.\n",
        "$$f(x) = x^5 - \\frac{x^4}{2x-4} -x^2 + 3x - 1$$\n",
        " "
      ],
      "metadata": {
        "id": "8AvhhArioVkp"
      }
    },
    {
      "cell_type": "code",
      "source": [
        "def func_y(x):\n",
        "  return x**5 - x**4/(2*x-4) -x**2 + 3*x - 1\n",
        "\n",
        "def calc_root(x_i = 0, x_f = 1):\n",
        "  erro = 1000\n",
        "\n",
        "  while erro > 0.000000001:\n",
        "    f_i = func_y(x_i)\n",
        "    f_f = func_y(x_f)\n",
        "\n",
        "    x_m = x_i + (x_f - x_i)/2\n",
        "    f_m = func_y(x_m)\n",
        "\n",
        "    if f_m*f_i < 0:\n",
        "      x_f = x_m\n",
        "    else:\n",
        "      x_i = x_m\n",
        "\n",
        "    erro = abs(func_y(x_m))\n",
        "\n",
        "  print(f'Raiz: {x_m}')\n",
        "  print(f'Valor de y: {func_y(x_m)}')\n",
        "\n",
        "calc_root(x_i = 0, x_f = 1)"
      ],
      "metadata": {
        "colab": {
          "base_uri": "https://localhost:8080/"
        },
        "id": "lzOVedI1pX8c",
        "outputId": "c62e3f3f-04e0-4d10-e739-9b2cd86cea17"
      },
      "execution_count": null,
      "outputs": [
        {
          "output_type": "stream",
          "name": "stdout",
          "text": [
            "Raiz: 0.3758788425475359\n",
            "Valor de y: 5.913751710551196e-10\n"
          ]
        }
      ]
    },
    {
      "cell_type": "markdown",
      "source": [
        "## 10 - Nas próximas etapas, vocês irão aprender a montar/ criar uma Dataframe (Estrutura muito parecida com uma planilha de excel, imagem baixo). Uma forma de vc montar sua própria versão é utilizando um dicionário de lista. Crie você um dicionário onde cada chave representa o nome de uma coluna e o valor de cada chave é uma lista com os atributos. Reproduza a tabela abaixo nessa estrutura.\n",
        "\n",
        "![img](https://miro.medium.com/max/506/1*pJjjHNL_P0TgUMfJ0Ihvpw.png)"
      ],
      "metadata": {
        "id": "sDm_pjNwob3K"
      }
    },
    {
      "cell_type": "code",
      "source": [
        "df = {\n",
        "    'Aluno': ['Wilfred','Abbie','Harry','Julia','Carrie'],\n",
        "    'Faltas': [3,4,2,1,4],\n",
        "    'Prova': [2,7,5,10,6],\n",
        "    'Seminário': [8.5,7.5,9.0,7.5,8.0]\n",
        "}"
      ],
      "metadata": {
        "id": "t9MavtErpXvp"
      },
      "execution_count": null,
      "outputs": []
    }
  ]
}