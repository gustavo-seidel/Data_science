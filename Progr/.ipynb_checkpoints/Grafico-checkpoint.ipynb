{
 "cells": [
  {
   "cell_type": "code",
   "execution_count": 155,
   "id": "8a0652cc",
   "metadata": {},
   "outputs": [
    {
     "name": "stdout",
     "output_type": "stream",
     "text": [
      "1 Cloud\n",
      "6 Data Science\n",
      "5 Gestão de Projetos\n",
      "3 Marketing\n",
      "4 Python\n",
      "2 Scrum\n",
      "[[1, 'Cloud'], [6, 'Data Science'], [5, 'Gestão de Projetos'], [3, 'Marketing'], [4, 'Python'], [2, 'Scrum']]\n"
     ]
    }
   ],
   "source": [
    "treinamentos = [{'treinamento':'Scrum','moedas':30},\n",
    "                {'treinamento':'Data Science','moedas':40}, \n",
    "                {'treinamento':'Gestão de Projetos','moedas':50}, \n",
    "                {'treinamento':'Marketing','moedas':30}, \n",
    "                {'treinamento':'Cloud','moedas':20}, \n",
    "                {'treinamento':'Blockchain','moedas':10}, \n",
    "                {'treinamento':'Python','moedas':30}] \n",
    "pedidos = ['Scrum','Data Science','Gestão de Projetos','Marketing',\n",
    "           'Cloud','Python','Python','Python', 'Scrum','Data Science',\n",
    "           'Gestão de Projetos','Marketing','Data Science','Gestão de Projetos',\n",
    "           'Python','Marketing','Data Science','Gestão de Projetos','Data Science',\n",
    "           'Gestão de Projetos','Data Science']\n",
    "def n_world(lista): \n",
    "    #Verifica maoir incidencia    \n",
    "    temp = []\n",
    "    pedidoS = []\n",
    "    quantC = 0\n",
    "    #set tira as palavras repetidas\n",
    "    qtdC = sorted(set(lista))\n",
    "    for word in qtdC:\n",
    "        print(lista.count(word), word)\n",
    "        temp.append(lista.count(word))\n",
    "        temp.append(word)\n",
    "        pedidoS.append(temp[:])\n",
    "        temp.clear()\n",
    "    return pedidoS\n",
    "        \n",
    "  \n",
    "q = []\n",
    "q = n_world(pedidos)\n",
    "print(q)\n",
    "\n",
    "def b_choice(qtd_Coin,lista):\n",
    "    for l in lista:\n",
    "        "
   ]
  },
  {
   "cell_type": "code",
   "execution_count": 156,
   "id": "d131405d",
   "metadata": {},
   "outputs": [
    {
     "name": "stdout",
     "output_type": "stream",
     "text": [
      "104.0\n"
     ]
    }
   ],
   "source": [
    "print ( 13.9 + 90.1 )"
   ]
  },
  {
   "cell_type": "code",
   "execution_count": 157,
   "id": "8e8e1e1e",
   "metadata": {},
   "outputs": [
    {
     "name": "stdout",
     "output_type": "stream",
     "text": [
      "59 7 8.4286 3\n"
     ]
    }
   ],
   "source": [
    "a=59;\n",
    "b=7;\n",
    "print(f'{a} {b} {a/b:6.4f} {a%b}')"
   ]
  },
  {
   "cell_type": "code",
   "execution_count": 158,
   "id": "defd3ee7",
   "metadata": {},
   "outputs": [
    {
     "ename": "ValueError",
     "evalue": "tuple.index(x): x not in tuple",
     "output_type": "error",
     "traceback": [
      "\u001b[1;31m---------------------------------------------------------------------------\u001b[0m",
      "\u001b[1;31mValueError\u001b[0m                                Traceback (most recent call last)",
      "Input \u001b[1;32mIn [158]\u001b[0m, in \u001b[0;36m<cell line: 2>\u001b[1;34m()\u001b[0m\n\u001b[0;32m      1\u001b[0m t1 \u001b[38;5;241m=\u001b[39m (\u001b[38;5;124m'\u001b[39m\u001b[38;5;124mBanana\u001b[39m\u001b[38;5;124m'\u001b[39m, \u001b[38;5;124m'\u001b[39m\u001b[38;5;124mAbacate\u001b[39m\u001b[38;5;124m'\u001b[39m, \u001b[38;5;124m'\u001b[39m\u001b[38;5;124mMorango\u001b[39m\u001b[38;5;124m'\u001b[39m) \u001b[38;5;66;03m#tupla \u001b[39;00m\n\u001b[1;32m----> 2\u001b[0m posicao \u001b[38;5;241m=\u001b[39m \u001b[43mt1\u001b[49m\u001b[38;5;241;43m.\u001b[39;49m\u001b[43mindex\u001b[49m\u001b[43m(\u001b[49m\u001b[38;5;124;43m'\u001b[39;49m\u001b[38;5;124;43mmorango\u001b[39;49m\u001b[38;5;124;43m'\u001b[39;49m\u001b[43m)\u001b[49m \n\u001b[0;32m      3\u001b[0m terceiroelemento \u001b[38;5;241m=\u001b[39m t1[\u001b[38;5;241m3\u001b[39m] \n\u001b[0;32m      4\u001b[0m \u001b[38;5;28mprint\u001b[39m(posicao, terceiroelemento)\n",
      "\u001b[1;31mValueError\u001b[0m: tuple.index(x): x not in tuple"
     ]
    }
   ],
   "source": [
    "t1 = ('Banana', 'Abacate', 'Morango') #tupla \n",
    "posicao = t1.index('morango') \n",
    "terceiroelemento = t1[3] \n",
    "print(posicao, terceiroelemento)"
   ]
  },
  {
   "cell_type": "code",
   "execution_count": 160,
   "id": "f70c8a57",
   "metadata": {},
   "outputs": [
    {
     "name": "stdout",
     "output_type": "stream",
     "text": [
      "[3, 3]\n"
     ]
    }
   ],
   "source": [
    "l1 = [1,2,3]\n",
    "l2 = [2,1]\n",
    "l3 = []\n",
    "for v1,v2 in zip(l1,l2):\n",
    "    l3.append(v1 + v2)\n",
    "print(l3)"
   ]
  },
  {
   "cell_type": "code",
   "execution_count": 161,
   "id": "f1b8e1a1",
   "metadata": {},
   "outputs": [
    {
     "name": "stdout",
     "output_type": "stream",
     "text": [
      "3.14\n"
     ]
    }
   ],
   "source": [
    "print(\"{:.2f}\".format(3.14159265359))\n"
   ]
  },
  {
   "cell_type": "code",
   "execution_count": 164,
   "id": "0a90d216",
   "metadata": {},
   "outputs": [
    {
     "name": "stdout",
     "output_type": "stream",
     "text": [
      "90\n",
      "6.428571428571429\n"
     ]
    }
   ],
   "source": [
    "print(sum([3, 6, 8, 2, 5, 4, 9, 1, 2, 13, 6, 10, 7, 14]))\n",
    "print((sum([3, 6, 8, 2, 5, 4, 9, 1, 2, 13, 6, 10, 7, 14]))/len([3, 6, 8, 2, 5, 4, 9, 1, 2, 13, 6, 10, 7, 14]))"
   ]
  },
  {
   "cell_type": "code",
   "execution_count": 165,
   "id": "0588248f",
   "metadata": {},
   "outputs": [
    {
     "name": "stdout",
     "output_type": "stream",
     "text": [
      "0.4637096774193548\n"
     ]
    }
   ],
   "source": [
    "v = [0, 1, 1, 1, 0, 0, 0, 1, 0, 1, 1, 1, 0, 1, 0, 1, 0, 1, 1, 0, 0, 1, 0, 1, 0, 1, 1, 1, 0, 0, 1, 0,\n",
    " 0, 1, 1, 0, 1, 1, 1, 1, 0, 0, 1, 0, 0, 0, 0, 0, 0, 1, 1, 1, 0, 0, 1, 1, 0, 1, 1, 0, 0, 1, 0, 1,\n",
    " 0, 1, 1, 1, 0, 0, 1, 0, 0, 0, 1, 0, 0, 0, 0, 0, 0, 1, 1, 1, 0, 1, 0, 1, 0, 1, 1, 0, 1, 1, 0, 1, \n",
    " 0, 0, 1, 0, 0, 0, 0, 0, 0, 1, 1, 0, 0, 0, 1, 1, 0, 1, 1, 0, 1, 0, 0, 1, 0, 1, 1, 0, 0, 1, 0, 1, \n",
    " 0, 1, 1, 0, 1, 1, 1, 0, 0, 1, 1, 1, 0, 1, 0, 0, 0, 1, 1, 0, 1, 0, 0, 1, 0, 1, 1, 1, 0, 0, 1, 1, \n",
    " 0, 1, 1, 1, 0, 1, 0, 0, 0, 1, 1, 0, 0, 0, 0, 1, 0, 0, 1, 0, 0, 0, 0, 0, 0, 1, 1, 0, 0, 1, 0, 0, \n",
    " 0, 1, 1, 0, 0, 1, 0, 1, 0, 0, 1, 0, 0, 0, 0, 0, 0, 1, 1, 0, 0, 1, 0, 0, 0, 1, 1, 0, 0, 0, 0, 1, \n",
    " 0, 1, 1, 0, 0, 1, 0, 0, 0, 1, 1, 0, 1, 1, 1, 1, 0, 1, 1, 1, 0, 0, 1, 1]\n",
    "print(v.count(1)/len(v))"
   ]
  },
  {
   "cell_type": "code",
   "execution_count": 169,
   "id": "8e50fee8",
   "metadata": {},
   "outputs": [
    {
     "ename": "NameError",
     "evalue": "name 'mean' is not defined",
     "output_type": "error",
     "traceback": [
      "\u001b[1;31m---------------------------------------------------------------------------\u001b[0m",
      "\u001b[1;31mNameError\u001b[0m                                 Traceback (most recent call last)",
      "Input \u001b[1;32mIn [169]\u001b[0m, in \u001b[0;36m<cell line: 5>\u001b[1;34m()\u001b[0m\n\u001b[0;32m      1\u001b[0m lista \u001b[38;5;241m=\u001b[39m [{\u001b[38;5;124m'\u001b[39m\u001b[38;5;124mNome\u001b[39m\u001b[38;5;124m'\u001b[39m: \u001b[38;5;124m'\u001b[39m\u001b[38;5;124mlaranja\u001b[39m\u001b[38;5;124m'\u001b[39m, \u001b[38;5;124m'\u001b[39m\u001b[38;5;124mpreço\u001b[39m\u001b[38;5;124m'\u001b[39m: \u001b[38;5;241m6.0\u001b[39m}, \n\u001b[0;32m      2\u001b[0m          {\u001b[38;5;124m'\u001b[39m\u001b[38;5;124mNome\u001b[39m\u001b[38;5;124m'\u001b[39m: \u001b[38;5;124m'\u001b[39m\u001b[38;5;124mmaça\u001b[39m\u001b[38;5;124m'\u001b[39m, \u001b[38;5;124m'\u001b[39m\u001b[38;5;124mpreço\u001b[39m\u001b[38;5;124m'\u001b[39m: \u001b[38;5;241m4\u001b[39m}, \n\u001b[0;32m      3\u001b[0m          {\u001b[38;5;124m'\u001b[39m\u001b[38;5;124mNome\u001b[39m\u001b[38;5;124m'\u001b[39m: \u001b[38;5;124m'\u001b[39m\u001b[38;5;124mmelancia\u001b[39m\u001b[38;5;124m'\u001b[39m, \u001b[38;5;124m'\u001b[39m\u001b[38;5;124mpreço\u001b[39m\u001b[38;5;124m'\u001b[39m: \u001b[38;5;241m10.7\u001b[39m}, \n\u001b[0;32m      4\u001b[0m          {\u001b[38;5;124m'\u001b[39m\u001b[38;5;124mNome\u001b[39m\u001b[38;5;124m'\u001b[39m:\u001b[38;5;124m'\u001b[39m\u001b[38;5;124mMelão\u001b[39m\u001b[38;5;124m'\u001b[39m, \u001b[38;5;124m'\u001b[39m\u001b[38;5;124mpreço\u001b[39m\u001b[38;5;124m'\u001b[39m:\u001b[38;5;241m8.2\u001b[39m}]\n\u001b[1;32m----> 5\u001b[0m \u001b[43mmean\u001b[49m(lista[\u001b[38;5;124m'\u001b[39m\u001b[38;5;124mpreço\u001b[39m\u001b[38;5;124m'\u001b[39m])\n",
      "\u001b[1;31mNameError\u001b[0m: name 'mean' is not defined"
     ]
    }
   ],
   "source": [
    "lista = [{'Nome': 'laranja', 'preço': 6.0}, \n",
    "         {'Nome': 'maça', 'preço': 4}, \n",
    "         {'Nome': 'melancia', 'preço': 10.7}, \n",
    "         {'Nome':'Melão', 'preço':8.2}]\n",
    "mean(lista['preço'])"
   ]
  },
  {
   "cell_type": "code",
   "execution_count": 171,
   "id": "48a4126d",
   "metadata": {},
   "outputs": [
    {
     "name": "stdout",
     "output_type": "stream",
     "text": [
      "-10000000000000000000000000000000000000000000000000000000000000000000000000000000000000000000000000000000000000000000000000000000000000000000000000000000000000000000000000000000000000000000000000000000000000000000000000000000000000000000000000000000000000000000000000000000000000000000000000000000000000000000000000000000000000000000000000000000000000000000000000000000000000000000000000000000000000000000000000000000000000000000000000000000000000000000000000000000000000000000000000000000000000000000000000000000000000000000000000000000000000000000000000000000000000000000000000000000000000000000000000000000000000000000000000000000000000000000000000000000000000000000000000000000000000000000000000000000000000000000000000000000000000000000000000000000000000000000000000000000000000000000000000000000000000000000000000000000000000000000000000000000000000000000000000000000000000000000000000000000000000000000000000000000000000000000000000000000000000000000000000000000000000000000000000000000000000000\n"
     ]
    }
   ],
   "source": [
    "dicionario = {'a':5, 'b':8.2, 'c':9, 'd':3, 'e': 100, 'f': 101, 'g': 210, 'h':12000, \n",
    "              'i':10000, 'j':1000000, 'k':-10**1000, 'l':-1000000}\n",
    "print(-10**1000)"
   ]
  },
  {
   "cell_type": "code",
   "execution_count": null,
   "id": "396b6e3e",
   "metadata": {},
   "outputs": [],
   "source": []
  }
 ],
 "metadata": {
  "kernelspec": {
   "display_name": "Python 3 (ipykernel)",
   "language": "python",
   "name": "python3"
  },
  "language_info": {
   "codemirror_mode": {
    "name": "ipython",
    "version": 3
   },
   "file_extension": ".py",
   "mimetype": "text/x-python",
   "name": "python",
   "nbconvert_exporter": "python",
   "pygments_lexer": "ipython3",
   "version": "3.9.12"
  }
 },
 "nbformat": 4,
 "nbformat_minor": 5
}
