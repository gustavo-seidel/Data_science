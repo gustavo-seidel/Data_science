{
 "cells": [
  {
   "cell_type": "code",
   "execution_count": 7,
   "id": "a16d4a2a",
   "metadata": {},
   "outputs": [
    {
     "name": "stdout",
     "output_type": "stream",
     "text": [
      "['Acarajé', 'Arroz ', 'Açaí ', 'Bala ', 'Churrasco', 'Dobradinha', 'Doce', 'Feijão ', 'Pamonha', 'Paçoca ', 'Pizza ', 'Rapadura', 'Tapioca']\n",
      "Chose one food: Acarajé\n",
      "Acarajé\n",
      "The position is : 9\n"
     ]
    }
   ],
   "source": [
    "t1 = ('Doce', 'Churrasco', 'Bala ', 'Tapioca', 'Pizza ', 'Feijão ', \n",
    "      'Arroz ', 'Açaí ', 'Paçoca ', 'Acarajé', 'Pamonha', 'Dobradinha', 'Rapadura')\n",
    "print(sorted(t1))\n",
    "food = input('Chose one food: ')\n",
    "print(food)\n",
    "print('The position is : {}'.format(t1.index(food)))"
   ]
  },
  {
   "cell_type": "code",
   "execution_count": 52,
   "id": "a09862a1",
   "metadata": {},
   "outputs": [
    {
     "name": "stdout",
     "output_type": "stream",
     "text": [
      "----------------------------------------\n",
      "--------------- Cardápio ---------------\n",
      "----------------------------------------\n",
      "Doce........................... : R$ 2.300000\n",
      "Bala........................... : R$ 0.150000\n",
      "Pizza.......................... : R$ 28.900000\n",
      "Arroz.......................... : R$ 4.500000\n",
      "Paçoca......................... : R$ 0.500000\n",
      "Pamonha........................ : R$ 5.400000\n",
      "Type 0 to exit\n",
      "----------------------------------------\n",
      "Chose yours foods: Paçoca\n",
      "Chose yours foods: Pamonha\n",
      "Chose yours foods: 0\n",
      " The total is: 11.3\n"
     ]
    }
   ],
   "source": [
    "t1 = ('Doce', 2.3, 'Bala', 0.15, 'Pizza', 28.9, 'Arroz', 4.5, 'Paçoca', 0.5, 'Pamonha', 5.4)\n",
    "asked = 1\n",
    "#menu\n",
    "print('-'*40)\n",
    "print('-'*15,'Cardápio','-'*15)\n",
    "print('-'*40)\n",
    "\n",
    "#Loop products\n",
    "for j in range(0,len(t1),2):\n",
    "    lenght = -len(t1[j])-9+40\n",
    "    print(t1[j]+'.'*lenght,':','R$ {0:3f}'.format(t1[j+1]))\n",
    "print('Type 0 to exit')\n",
    "print('-'*40)\n",
    "\n",
    "while True:\n",
    "    asked = input('Chose yours foods: ')\n",
    "    if asked == '0':\n",
    "        break\n",
    "    soma += t1[t1.index(asked)+1]\n",
    "print('The total is: {}'.format(soma))"
   ]
  },
  {
   "cell_type": "code",
   "execution_count": null,
   "id": "0f8b725c",
   "metadata": {},
   "outputs": [],
   "source": []
  }
 ],
 "metadata": {
  "kernelspec": {
   "display_name": "Python 3 (ipykernel)",
   "language": "python",
   "name": "python3"
  },
  "language_info": {
   "codemirror_mode": {
    "name": "ipython",
    "version": 3
   },
   "file_extension": ".py",
   "mimetype": "text/x-python",
   "name": "python",
   "nbconvert_exporter": "python",
   "pygments_lexer": "ipython3",
   "version": "3.9.12"
  }
 },
 "nbformat": 4,
 "nbformat_minor": 5
}
