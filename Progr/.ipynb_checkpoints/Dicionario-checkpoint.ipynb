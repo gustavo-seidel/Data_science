{
 "cells": [
  {
   "cell_type": "code",
   "execution_count": null,
   "id": "5db0af05",
   "metadata": {},
   "outputs": [],
   "source": [
    "for c in range(i,f):\n",
    "    l.append((input('l[0]: 0')))\n",
    "    l.append((input('l[1]: 0')))\n",
    "    composta.append(l[:])\n",
    "    l.clear()\n"
   ]
  },
  {
   "cell_type": "code",
   "execution_count": 16,
   "id": "4fcf1166",
   "metadata": {},
   "outputs": [
    {
     "name": "stdout",
     "output_type": "stream",
     "text": [
      "1.Lanche   valor: R$10.9\n",
      "Enter the amount: 1\n",
      "2.Batata   valor: R$5.5\n",
      "Enter the amount: 1\n",
      "3.Refri   valor: R$3.9\n",
      "Enter the amount: 1\n",
      "Was bught Lanche x 1.0\n",
      "Was bught Batata x 1.0\n",
      "Was bught Refri x 1.0\n",
      "The total was:20.300000\n"
     ]
    }
   ],
   "source": [
    "cardapio = [['Lanche', 10.9], ['Batata',  5.5], ['Refri' ,  3.9]]\n",
    "qtd = []\n",
    "qtdTotal = []\n",
    "i = 0\n",
    "soma = 0\n",
    "for i,c in enumerate(cardapio):\n",
    "    print(f'{i+1}.{c[0]}   valor: R${c[1]}')\n",
    "    mult = float(input('Enter the amount: '))\n",
    "    soma = soma + (mult * c[1])\n",
    "    qtd.append(c[0])\n",
    "    qtd.append(mult)\n",
    "    qtdTotal.append(qtd[:])\n",
    "    qtd.clear()\n",
    "for i,c in enumerate(qtdTotal):\n",
    "    print(f'Was bught {c[0]} x {c[1]}')\n",
    "print('The total was:{0:3f}'.format(soma))"
   ]
  },
  {
   "cell_type": "code",
   "execution_count": 24,
   "id": "a7551f7b",
   "metadata": {},
   "outputs": [
    {
     "name": "stdout",
     "output_type": "stream",
     "text": [
      "Type the number of customers you are going to register: 2\n",
      "Type the Name: Lucas\n",
      "Type the email: gustavoseidel51@gmail.com\n",
      "Type the cellphone: 41998159175\n",
      "Type the age: 25\n",
      "Type the Name: Gustavo\n",
      "Type the email: gustavo.seidel@connectvg.com\n",
      "Type the cellphone: 41997986812\n",
      "Type the age: 24\n",
      "Type the email that you want search: gustavo.seidel@connectvg.com\n",
      "Email not found!\n",
      "The name is: Gustavo\n",
      "The email is: gustavo.seidel@connectvg.com\n",
      "The Cellphone is: 41997986812\n",
      "The age is: 24\n"
     ]
    }
   ],
   "source": [
    "clients = []\n",
    "l = []\n",
    "lenght = int(input('Type the number of customers you are going to register: '))\n",
    "for i in range(0,lenght):\n",
    "    l.append((input('Type the Name: ')))\n",
    "    l.append((input('Type the email: ')))\n",
    "    l.append((int(input('Type the cellphone: '))))\n",
    "    l.append((int(input('Type the age: '))))\n",
    "    clients.append(l[:])\n",
    "    l.clear()\n",
    "comper = input('Type the email that you want search: ')\n",
    "for c in clients:\n",
    "    if comper == c[1]:\n",
    "        print(f'The name is: {c[0]}')\n",
    "        print(f'The email is: {c[1]}')\n",
    "        print(f'The Cellphone is: {c[2]}')\n",
    "        print(f'The age is: {c[3]}')\n",
    "\n",
    "    "
   ]
  },
  {
   "cell_type": "code",
   "execution_count": null,
   "id": "86be966c",
   "metadata": {},
   "outputs": [],
   "source": []
  },
  {
   "cell_type": "code",
   "execution_count": null,
   "id": "145c65e5",
   "metadata": {},
   "outputs": [],
   "source": []
  }
 ],
 "metadata": {
  "kernelspec": {
   "display_name": "Python 3 (ipykernel)",
   "language": "python",
   "name": "python3"
  },
  "language_info": {
   "codemirror_mode": {
    "name": "ipython",
    "version": 3
   },
   "file_extension": ".py",
   "mimetype": "text/x-python",
   "name": "python",
   "nbconvert_exporter": "python",
   "pygments_lexer": "ipython3",
   "version": "3.9.12"
  }
 },
 "nbformat": 4,
 "nbformat_minor": 5
}
