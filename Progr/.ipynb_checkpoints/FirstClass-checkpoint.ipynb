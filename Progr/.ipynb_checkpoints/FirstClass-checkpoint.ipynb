{
 "cells": [
  {
   "cell_type": "code",
   "execution_count": 1,
   "id": "aef373a6",
   "metadata": {},
   "outputs": [
    {
     "name": "stdout",
     "output_type": "stream",
     "text": [
      "Everton Garcia Menezes, seja muito bem vindo a DNC\n"
     ]
    }
   ],
   "source": [
    "nomePrimeiro = 'Everton'\n",
    "nomeMeio = 'Garcia'\n",
    "nomeUltimo = 'Menezes,'\n",
    "print(nomePrimeiro,nomeMeio,nomeUltimo,'seja muito bem vindo a DNC')\n"
   ]
  },
  {
   "cell_type": "code",
   "execution_count": 3,
   "id": "d93afddc",
   "metadata": {},
   "outputs": [
    {
     "name": "stdout",
     "output_type": "stream",
     "text": [
      "Qual o seu primeiro nome?Everton\n",
      "Qual o seu nome do meio?Garcia\n",
      "Qual o seu último nome?Menezes\n",
      "Everton Garcia Menezes, seja muito bem vindo a DNC\n"
     ]
    }
   ],
   "source": [
    "nomePrimeiro = input('Qual o seu primeiro nome?')\n",
    "nomeMeio = input('Qual o seu nome do meio?')\n",
    "nomeUltimo = input('Qual o seu último nome?')\n",
    "print(nomePrimeiro,nomeMeio,nomeUltimo+',','seja muito bem vindo a DNC')\n",
    "\n"
   ]
  },
  {
   "cell_type": "code",
   "execution_count": null,
   "id": "e24a01da",
   "metadata": {},
   "outputs": [],
   "source": []
  }
 ],
 "metadata": {
  "kernelspec": {
   "display_name": "Python 3 (ipykernel)",
   "language": "python",
   "name": "python3"
  },
  "language_info": {
   "codemirror_mode": {
    "name": "ipython",
    "version": 3
   },
   "file_extension": ".py",
   "mimetype": "text/x-python",
   "name": "python",
   "nbconvert_exporter": "python",
   "pygments_lexer": "ipython3",
   "version": "3.9.12"
  }
 },
 "nbformat": 4,
 "nbformat_minor": 5
}
