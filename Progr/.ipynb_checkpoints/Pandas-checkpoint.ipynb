{
 "cells": [
  {
   "cell_type": "code",
   "execution_count": 54,
   "id": "18b25e74",
   "metadata": {},
   "outputs": [
    {
     "data": {
      "text/plain": [
       "0    G. Seidel\n",
       "1    A. Seidel\n",
       "2    B. Seidel\n",
       "Name: name, dtype: object"
      ]
     },
     "execution_count": 54,
     "metadata": {},
     "output_type": "execute_result"
    }
   ],
   "source": [
    "import pandas as pd\n",
    "\n",
    "clients = ['G. Seidel', \n",
    "           'A. Seidel', \n",
    "           'B. Seidel'\n",
    "          ]\n",
    "indice = [0,1,2]\n",
    "ages = [22,35,58]\n",
    "genre = ['M','F','F']\n",
    "\n",
    "serie = pd.Series(data=clients,\n",
    "                  index=indice,\n",
    "                  name='Clients name'\n",
    ")\n",
    "\n",
    "df = pd.DataFrame({\"name\":clients,\n",
    "                   \"age\":ages,\n",
    "                   \"genre\":genre\n",
    "    \n",
    "    \n",
    "})\n",
    "\n",
    "df[\"name\"]"
   ]
  },
  {
   "cell_type": "code",
   "execution_count": null,
   "id": "89decf07",
   "metadata": {},
   "outputs": [],
   "source": []
  }
 ],
 "metadata": {
  "kernelspec": {
   "display_name": "Python 3 (ipykernel)",
   "language": "python",
   "name": "python3"
  },
  "language_info": {
   "codemirror_mode": {
    "name": "ipython",
    "version": 3
   },
   "file_extension": ".py",
   "mimetype": "text/x-python",
   "name": "python",
   "nbconvert_exporter": "python",
   "pygments_lexer": "ipython3",
   "version": "3.9.12"
  }
 },
 "nbformat": 4,
 "nbformat_minor": 5
}
