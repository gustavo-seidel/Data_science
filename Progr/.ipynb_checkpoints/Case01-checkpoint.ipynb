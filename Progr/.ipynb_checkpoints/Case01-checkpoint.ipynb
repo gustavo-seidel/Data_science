{
 "cells": [
  {
   "cell_type": "code",
   "execution_count": 106,
   "id": "19ca1e4f",
   "metadata": {},
   "outputs": [
    {
     "name": "stdout",
     "output_type": "stream",
     "text": [
      " media:1, soma:2,produto: 3\n"
     ]
    }
   ],
   "source": [
    "\n",
    "def Welcome():\n",
    "    \"\"\"\n",
    "    Breve texto explicativo da função\n",
    "    :param a: o que este parâmetro faz\n",
    "    :param b: o que este parâmetro faz\n",
    "    :return: o que será retornado ao usuário.\n",
    "    \"\"\"\n",
    "    a = {'media':1,'soma':2,'prod':3}\n",
    "    return a\n",
    "   \n",
    "num = []\n",
    "num = Welcome()\n",
    "print(f\" media:{num['media']}, soma:{num['soma']},produto: {num['prod']}\")\n"
   ]
  },
  {
   "cell_type": "code",
   "execution_count": null,
   "id": "f3c5fc74",
   "metadata": {},
   "outputs": [],
   "source": []
  }
 ],
 "metadata": {
  "kernelspec": {
   "display_name": "Python 3 (ipykernel)",
   "language": "python",
   "name": "python3"
  },
  "language_info": {
   "codemirror_mode": {
    "name": "ipython",
    "version": 3
   },
   "file_extension": ".py",
   "mimetype": "text/x-python",
   "name": "python",
   "nbconvert_exporter": "python",
   "pygments_lexer": "ipython3",
   "version": "3.9.12"
  }
 },
 "nbformat": 4,
 "nbformat_minor": 5
}
