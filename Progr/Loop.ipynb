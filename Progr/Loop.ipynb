{
 "cells": [
  {
   "cell_type": "code",
   "execution_count": 1,
   "id": "1cdeb5f9",
   "metadata": {},
   "outputs": [
    {
     "name": "stdout",
     "output_type": "stream",
     "text": [
      "i = 1 , soma = 1\n",
      "i = 3 , soma = 4\n",
      "i = 5 , soma = 9\n",
      "i = 7 , soma = 16\n",
      "i = 9 , soma = 25\n"
     ]
    }
   ],
   "source": [
    "soma = 0\n",
    "passo = range(1,10,2)\n",
    "for i in passo:\n",
    "    soma += i\n",
    "    print('i = {} , soma = {}'.format(i,soma))\n"
   ]
  },
  {
   "cell_type": "code",
   "execution_count": 12,
   "id": "47389dbe",
   "metadata": {},
   "outputs": [
    {
     "name": "stdout",
     "output_type": "stream",
     "text": [
      "How many number do you want to make the Midle?2\n",
      "Type the 1° number: 2\n",
      "Type the 2° number: 2\n",
      "4.0\n",
      "2\n",
      "The midle is 1.0\n"
     ]
    }
   ],
   "source": [
    "N = int(input('How many number do you want to make the Midle?'))\n",
    "summ = 0\n",
    "passo = range(1,N+1)\n",
    "\n",
    "for i in passo:\n",
    "    number = float(input('Type the {}° number: '.format(i)))\n",
    "    summ +=number\n",
    "print(summ)\n",
    "print(N)\n",
    "midle = number//N\n",
    "print('The midle is {}'.format(midle))\n",
    "    \n",
    "\n",
    "\n",
    "\n"
   ]
  },
  {
   "cell_type": "code",
   "execution_count": 15,
   "id": "659b2b90",
   "metadata": {},
   "outputs": [
    {
     "name": "stdout",
     "output_type": "stream",
     "text": [
      "Type a number: 1\n",
      "Type a number: 2\n",
      "Type a number: 3\n",
      "Type a number: 4\n",
      "Type a number: 1\n",
      "Type a number: 5\n",
      "Type a number: 2\n",
      "Type a number: 1\n",
      "Type a number: 3\n",
      "----------\n",
      "The sum is 22.0\n"
     ]
    }
   ],
   "source": [
    "summ = 0\n",
    "while summ < 20:\n",
    "    n = float(input('Type a number: '))\n",
    "    summ += n\n",
    "print('-'*10)\n",
    "print('The sum is {}'.format(summ))"
   ]
  },
  {
   "cell_type": "code",
   "execution_count": 20,
   "id": "fdda39f9",
   "metadata": {},
   "outputs": [
    {
     "name": "stdout",
     "output_type": "stream",
     "text": [
      "Type a numbe that you want the table: 2\n",
      "Type the range about the table: 50\n",
      "2 x 1 = 2\n",
      "2 x 2 = 4\n",
      "2 x 3 = 6\n",
      "2 x 4 = 8\n",
      "2 x 5 = 10\n",
      "2 x 6 = 12\n",
      "2 x 7 = 14\n",
      "2 x 8 = 16\n",
      "2 x 9 = 18\n",
      "2 x 10 = 20\n",
      "2 x 11 = 22\n",
      "2 x 12 = 24\n",
      "2 x 13 = 26\n",
      "2 x 14 = 28\n",
      "2 x 15 = 30\n",
      "2 x 16 = 32\n",
      "2 x 17 = 34\n",
      "2 x 18 = 36\n",
      "2 x 19 = 38\n",
      "2 x 20 = 40\n",
      "2 x 21 = 42\n",
      "2 x 22 = 44\n",
      "2 x 23 = 46\n",
      "2 x 24 = 48\n",
      "2 x 25 = 50\n",
      "2 x 26 = 52\n",
      "2 x 27 = 54\n",
      "2 x 28 = 56\n",
      "2 x 29 = 58\n",
      "2 x 30 = 60\n",
      "2 x 31 = 62\n",
      "2 x 32 = 64\n",
      "2 x 33 = 66\n",
      "2 x 34 = 68\n",
      "2 x 35 = 70\n",
      "2 x 36 = 72\n",
      "2 x 37 = 74\n",
      "2 x 38 = 76\n",
      "2 x 39 = 78\n",
      "2 x 40 = 80\n",
      "2 x 41 = 82\n",
      "2 x 42 = 84\n",
      "2 x 43 = 86\n",
      "2 x 44 = 88\n",
      "2 x 45 = 90\n",
      "2 x 46 = 92\n",
      "2 x 47 = 94\n",
      "2 x 48 = 96\n",
      "2 x 49 = 98\n",
      "2 x 50 = 100\n"
     ]
    }
   ],
   "source": [
    "mult = 1\n",
    "n = int(input('Type a numbe that you want the table: '))\n",
    "nx = int(input('Type the range about the table: '))\n",
    "step = range(1, nx + 1)\n",
    "for i in step:\n",
    "    mult = n * i\n",
    "    print('{} x {} = {}'.format(n,i,mult))"
   ]
  },
  {
   "cell_type": "code",
   "execution_count": 24,
   "id": "3d6473f9",
   "metadata": {},
   "outputs": [
    {
     "name": "stdout",
     "output_type": "stream",
     "text": [
      "Type the 1° number:2\n",
      "Type the 2° number:3\n",
      "Type the 3° number:5\n",
      "Type the 4° number:2\n",
      "Type the 5° number:7\n",
      "Type the 6° number:9\n",
      "Type the 7° number:10\n",
      "Type the 8° number:-6\n",
      "Type the 9° number:10\n",
      "Type the 10° number:-2\n",
      "The midle is 4.0\n",
      "The less is -6.0\n",
      "The more is 10.0\n"
     ]
    }
   ],
   "source": [
    "step =range(1,10+1)\n",
    "less = 0\n",
    "more = 0\n",
    "summ = 0\n",
    "for i in step:\n",
    "    n = float(input('Type the {}° number:'.format(i)))\n",
    "    if i == 1:\n",
    "        less = n\n",
    "        more = n\n",
    "    if n <= less:\n",
    "        less = n\n",
    "    if n >= more:\n",
    "        more = n\n",
    "    summ +=n\n",
    "midle = summ/i\n",
    "print('The midle is {}'.format(midle))\n",
    "print('The less is {}'.format(less))\n",
    "print('The more is {}'.format(more))\n",
    "    \n",
    "\n",
    "        \n",
    "    "
   ]
  },
  {
   "cell_type": "code",
   "execution_count": 27,
   "id": "64bd2cb6",
   "metadata": {},
   "outputs": [
    {
     "name": "stdout",
     "output_type": "stream",
     "text": [
      "Type the number about the Fibonnaci sequence: 10\n",
      "0\n",
      "-1\n",
      "-1\n",
      "-2\n",
      "-3\n",
      "-5\n",
      "-8\n",
      "-13\n",
      "-21\n",
      "-34\n",
      "-55\n",
      "-89\n"
     ]
    }
   ],
   "source": [
    "N = int(input('Type the number about the Fibonnaci sequence: '))\n",
    "contF = 0\n",
    "atual = 0\n",
    "prox = -1\n",
    "print(atual)\n",
    "print(prox)\n",
    "for i in range(1,N+1):\n",
    "    summ = atual + prox\n",
    "    atual = prox\n",
    "    prox = summ\n",
    "    print(summ)\n",
    "    \n",
    "    \n",
    "    "
   ]
  },
  {
   "cell_type": "code",
   "execution_count": null,
   "id": "81c9df4f",
   "metadata": {},
   "outputs": [],
   "source": []
  }
 ],
 "metadata": {
  "kernelspec": {
   "display_name": "Python 3 (ipykernel)",
   "language": "python",
   "name": "python3"
  },
  "language_info": {
   "codemirror_mode": {
    "name": "ipython",
    "version": 3
   },
   "file_extension": ".py",
   "mimetype": "text/x-python",
   "name": "python",
   "nbconvert_exporter": "python",
   "pygments_lexer": "ipython3",
   "version": "3.9.12"
  }
 },
 "nbformat": 4,
 "nbformat_minor": 5
}
