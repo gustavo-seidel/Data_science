{
 "cells": [
  {
   "cell_type": "code",
   "execution_count": 1,
   "id": "7635d5a6",
   "metadata": {},
   "outputs": [
    {
     "data": {
      "text/plain": [
       "True"
      ]
     },
     "execution_count": 1,
     "metadata": {},
     "output_type": "execute_result"
    }
   ],
   "source": [
    "7*2 ==14\n"
   ]
  },
  {
   "cell_type": "code",
   "execution_count": 2,
   "id": "e7eb03f4",
   "metadata": {},
   "outputs": [
    {
     "data": {
      "text/plain": [
       "True"
      ]
     },
     "execution_count": 2,
     "metadata": {},
     "output_type": "execute_result"
    }
   ],
   "source": [
    "7/2 == 3.5\n"
   ]
  },
  {
   "cell_type": "code",
   "execution_count": 7,
   "id": "2c930351",
   "metadata": {},
   "outputs": [
    {
     "name": "stdout",
     "output_type": "stream",
     "text": [
      "type the first int number: 7\n",
      "type the second int number: 2\n",
      "result about the sum:    9\n",
      "result about the mult:        14\n",
      "result about the div:   3.50000\n",
      "result about the sub:         5\n",
      "result about the expo:        49\n"
     ]
    }
   ],
   "source": [
    "n1 = int(input('type the first int number: '))\n",
    "n2 = int(input('type the second int number: '))\n",
    "summ = n1 + n2\n",
    "mult = n1*n2\n",
    "div = n1/n2\n",
    "sub = n1 - n2\n",
    "expo = n1**n2\n",
    "print('result about the sum:{0:5d}'.format(summ))\n",
    "print('result about the mult:{0:10d}'.format(mult))\n",
    "print('result about the div:{0:10.5f}'.format(div))\n",
    "print('result about the sub:{0:10d}'.format(sub))\n",
    "print('result about the expo:{0:10d}'.format(expo))\n"
   ]
  },
  {
   "cell_type": "code",
   "execution_count": 13,
   "id": "455d04cb",
   "metadata": {},
   "outputs": [
    {
     "name": "stdout",
     "output_type": "stream",
     "text": [
      "Digite um número inteiro:13\n",
      "--------------------\n",
      "   13 *  0 =     0\n",
      "   13 *  1 =    13\n",
      "   13 *  2 =    26\n",
      "   13 *  3 =    39\n",
      "   13 *  4 =    52\n",
      "   13 *  5 =    65\n",
      "   13 *  6 =    78\n",
      "   13 *  7 =    91\n",
      "   13 *  8 =   104\n",
      "   13 *  9 =   117\n",
      "   13 * 10 =   130\n"
     ]
    }
   ],
   "source": [
    "n = int(input('Digite um número inteiro:'))\n",
    "print('-'*20)\n",
    "print('{0:5d} *  0 = {1:5d}'.format(n,n*0))\n",
    "print('{0:5d} *  1 = {1:5d}'.format(n,n*1))\n",
    "print('{0:5d} *  2 = {1:5d}'.format(n,n*2))\n",
    "print('{0:5d} *  3 = {1:5d}'.format(n,n*3))\n",
    "print('{0:5d} *  4 = {1:5d}'.format(n,n*4))\n",
    "print('{0:5d} *  5 = {1:5d}'.format(n,n*5))\n",
    "print('{0:5d} *  6 = {1:5d}'.format(n,n*6))\n",
    "print('{0:5d} *  7 = {1:5d}'.format(n,n*7))\n",
    "print('{0:5d} *  8 = {1:5d}'.format(n,n*8))\n",
    "print('{0:5d} *  9 = {1:5d}'.format(n,n*9))\n",
    "print('{0:5d} * 10 = {1:5d}'.format(n,n*10))"
   ]
  },
  {
   "cell_type": "code",
   "execution_count": 16,
   "id": "f9590d2f",
   "metadata": {},
   "outputs": [
    {
     "name": "stdout",
     "output_type": "stream",
     "text": [
      "How many miles did you drived?350\n",
      "How many liters did you spend?18\n",
      "Your car did: 19.44444 mi/l\n"
     ]
    }
   ],
   "source": [
    "miles_drive = float(input('How many miles did you drived?'))\n",
    "gas_spend = float(input('How many liters did you spend?'))\n",
    "print('Your car did: {0:5.5f} mi/l'.format(miles_drive/gas_spend))"
   ]
  },
  {
   "cell_type": "code",
   "execution_count": null,
   "id": "a4e4bd50",
   "metadata": {},
   "outputs": [],
   "source": []
  }
 ],
 "metadata": {
  "kernelspec": {
   "display_name": "Python 3 (ipykernel)",
   "language": "python",
   "name": "python3"
  },
  "language_info": {
   "codemirror_mode": {
    "name": "ipython",
    "version": 3
   },
   "file_extension": ".py",
   "mimetype": "text/x-python",
   "name": "python",
   "nbconvert_exporter": "python",
   "pygments_lexer": "ipython3",
   "version": "3.9.12"
  }
 },
 "nbformat": 4,
 "nbformat_minor": 5
}
