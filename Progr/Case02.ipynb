{
 "cells": [
  {
   "cell_type": "code",
   "execution_count": 143,
   "id": "290a7258",
   "metadata": {},
   "outputs": [
    {
     "name": "stdout",
     "output_type": "stream",
     "text": [
      "agil\n",
      "5.50\n",
      "9.80\n"
     ]
    }
   ],
   "source": [
    "usuarios_feedback = [{'nome':'Peter','nota':9,'genero':'M','comentario':'bom demais e agil'},\n",
    "                     {'nome':'Joao','nota':10,'genero':'M','comentario':'agil e eficiente'},\n",
    "                     {'nome':'user_not_found','nota':0,'genero':'M','comentario':'Horrível'},\n",
    "                     {'nome':'Marta','nota':10,'genero':'F','comentario':'muito agil bom demais'},\n",
    "                     {'nome':'Beatriz','nota':10,'genero':'F','comentario':'rápido e eficaz'},\n",
    "                     {'nome':'user_not_found','nota':2,'genero':'M','comentario':'ruim'},\n",
    "                     {'nome':'Jéssica','nota':10,'genero':'F','comentario':'agil'},\n",
    "                     {'nome':'José','nota':7,'genero':'M','comentario':'ok'},\n",
    "                     {'nome':'Elias','nota':5,'genero':'M','comentario':'precisa melhorar'},\n",
    "                     {'nome':'Miriã','nota':9,'genero':'F','comentario':'foi muito agil e rápido'},\n",
    "                     {'nome':'Maria','nota':10,'genero':'F','comentario':'muito bom e agil'}]\n",
    "comentarios = []\n",
    "genero = []\n",
    "notaM = []\n",
    "notaF = []\n",
    "qtdC = []\n",
    "quantC = 0\n",
    "maior = str\n",
    "for u in usuarios_feedback:\n",
    "    if u['genero'] == 'M':\n",
    "        notaM.append(u['nota'])\n",
    "    else:\n",
    "        notaF.append(u['nota'])\n",
    "    for k,v in u.items():\n",
    "        if k == 'comentario':\n",
    "            temp = v.split()\n",
    "            for i in range(0,len(v.split())):\n",
    "                comentarios.append(temp[i])\n",
    "\n",
    "#Verifica maoir incidencia                \n",
    "for c in comentarios:\n",
    "    qtdC.append(comentarios.count(c))\n",
    "    if comentarios.count(c) > quantC:\n",
    "        maior = c\n",
    "        quantC = comentarios.count(c)\n",
    "\n",
    "print(maior)\n",
    "print(f'{sum(notaM)/len(notaM):4.2f}')\n",
    "print(f'{sum(notaF)/len(notaF):4.2f}')\n",
    "#Media das notas separadas por gênero\n"
   ]
  },
  {
   "cell_type": "code",
   "execution_count": null,
   "id": "0d9fae17",
   "metadata": {},
   "outputs": [],
   "source": []
  }
 ],
 "metadata": {
  "kernelspec": {
   "display_name": "Python 3 (ipykernel)",
   "language": "python",
   "name": "python3"
  },
  "language_info": {
   "codemirror_mode": {
    "name": "ipython",
    "version": 3
   },
   "file_extension": ".py",
   "mimetype": "text/x-python",
   "name": "python",
   "nbconvert_exporter": "python",
   "pygments_lexer": "ipython3",
   "version": "3.9.12"
  }
 },
 "nbformat": 4,
 "nbformat_minor": 5
}
