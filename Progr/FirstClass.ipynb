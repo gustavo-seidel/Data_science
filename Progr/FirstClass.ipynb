{
 "cells": [
  {
   "cell_type": "code",
   "execution_count": 1,
   "id": "bb2534ef",
   "metadata": {},
   "outputs": [
    {
     "name": "stdout",
     "output_type": "stream",
     "text": [
      "Everton Garcia Menezes, seja muito bem vindo a DNC\n"
     ]
    }
   ],
   "source": [
    "nomePrimeiro = 'Everton'\n",
    "nomeMeio = 'Garcia'\n",
    "nomeUltimo = 'Menezes,'\n",
    "print(nomePrimeiro,nomeMeio,nomeUltimo,'seja muito bem vindo a DNC')\n"
   ]
  },
  {
   "cell_type": "code",
   "execution_count": 3,
   "id": "a9a51634",
   "metadata": {},
   "outputs": [
    {
     "name": "stdout",
     "output_type": "stream",
     "text": [
      "Qual o seu primeiro nome?Everton\n",
      "Qual o seu nome do meio?Garcia\n",
      "Qual o seu último nome?Menezes\n",
      "Everton Garcia Menezes, seja muito bem vindo a DNC\n"
     ]
    }
   ],
   "source": [
    "nomePrimeiro = input('Qual o seu primeiro nome?')\n",
    "nomeMeio = input('Qual o seu nome do meio?')\n",
    "nomeUltimo = input('Qual o seu último nome?')\n",
    "print(nomePrimeiro,nomeMeio,nomeUltimo+',','seja muito bem vindo a DNC')\n",
    "\n"
   ]
  },
  {
   "cell_type": "code",
   "execution_count": 4,
   "id": "d3d7da17",
   "metadata": {},
   "outputs": [
    {
     "name": "stdout",
     "output_type": "stream",
     "text": [
      "O nome do cliente é: Ana\n",
      "A idade do cliente é: 21\n"
     ]
    }
   ],
   "source": [
    "cliente_nome = 'Ana'\n",
    "cliente_idade = '21'\n",
    "print('O nome do cliente é:',cliente_nome)\n",
    "print('A idade do cliente é:',cliente_idade)\n"
   ]
  },
  {
   "cell_type": "code",
   "execution_count": 5,
   "id": "727477d2",
   "metadata": {},
   "outputs": [
    {
     "name": "stdout",
     "output_type": "stream",
     "text": [
      "Qual seu nome?Ana\n",
      "Qual sua idade?20\n",
      "O nome do cliente é: Ana\n",
      "A idade do cliente é: 20\n"
     ]
    }
   ],
   "source": [
    "cliente_nome = input('Qual seu nome?') \n",
    "cliente_idade = input ('Qual sua idade?')\n",
    "print('O nome do cliente é:',cliente_nome)\n",
    "print('A idade do cliente é:',cliente_idade)\n",
    "\n"
   ]
  },
  {
   "cell_type": "code",
   "execution_count": 6,
   "id": "245f9126",
   "metadata": {},
   "outputs": [
    {
     "name": "stdout",
     "output_type": "stream",
     "text": [
      "O valor do produto é: 25.3\n",
      "O tipo da variável produto_valor é: <class 'float'>\n",
      "O cliente é premium? True\n",
      "O tipo da variavel cliente_premium é: <class 'bool'>\n"
     ]
    }
   ],
   "source": [
    "product_value = 25.3\n",
    "premium_client = True\n",
    "print('O valor do produto é:',product_value)\n",
    "print('O tipo da variável produto_valor é:',type(product_value))\n",
    "print('O cliente é premium?',premium_client)\n",
    "print('O tipo da variavel cliente_premium é:',type(premium_client))"
   ]
  },
  {
   "cell_type": "code",
   "execution_count": null,
   "id": "ec074025",
   "metadata": {},
   "outputs": [],
   "source": []
  }
 ],
 "metadata": {
  "kernelspec": {
   "display_name": "Python 3 (ipykernel)",
   "language": "python",
   "name": "python3"
  },
  "language_info": {
   "codemirror_mode": {
    "name": "ipython",
    "version": 3
   },
   "file_extension": ".py",
   "mimetype": "text/x-python",
   "name": "python",
   "nbconvert_exporter": "python",
   "pygments_lexer": "ipython3",
   "version": "3.9.12"
  }
 },
 "nbformat": 4,
 "nbformat_minor": 5
}
