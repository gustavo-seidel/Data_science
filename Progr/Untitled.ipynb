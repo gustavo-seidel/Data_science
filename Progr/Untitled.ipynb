{
 "cells": [
  {
   "cell_type": "code",
   "execution_count": 82,
   "id": "52819fc2",
   "metadata": {},
   "outputs": [],
   "source": [
    "import matplotlib.pyplot as plt\n",
    "import seaborn as sns\n",
    "import plotly.express as px\n",
    "import plotly.graph_objects as go\n",
    "import pandas as pd\n",
    "\n",
    "edp = pd.read_excel(\"C:/Users/gusta/Desktop/DNC/Learn_python/Dataset_colabs/clients_renamed.xlsx\")\n",
    "edp_group = edp.groupby([\"Gênero\"]).mean().reset_index()"
   ]
  },
  {
   "cell_type": "code",
   "execution_count": 83,
   "id": "78314274",
   "metadata": {},
   "outputs": [
    {
     "data": {
      "text/html": [
       "<div>\n",
       "<style scoped>\n",
       "    .dataframe tbody tr th:only-of-type {\n",
       "        vertical-align: middle;\n",
       "    }\n",
       "\n",
       "    .dataframe tbody tr th {\n",
       "        vertical-align: top;\n",
       "    }\n",
       "\n",
       "    .dataframe thead th {\n",
       "        text-align: right;\n",
       "    }\n",
       "</style>\n",
       "<table border=\"1\" class=\"dataframe\">\n",
       "  <thead>\n",
       "    <tr style=\"text-align: right;\">\n",
       "      <th></th>\n",
       "      <th>Gênero</th>\n",
       "      <th>Unnamed: 0</th>\n",
       "      <th>ID</th>\n",
       "      <th>valor_credito</th>\n",
       "      <th>EDUCATION</th>\n",
       "      <th>MARRIAGE</th>\n",
       "      <th>AGE</th>\n",
       "      <th>status_pag_set</th>\n",
       "      <th>status_pag_ago</th>\n",
       "      <th>status_pag_ago.1</th>\n",
       "      <th>...</th>\n",
       "      <th>BILL_AMT3</th>\n",
       "      <th>BILL_AMT4</th>\n",
       "      <th>BILL_AMT5</th>\n",
       "      <th>BILL_AMT6</th>\n",
       "      <th>valor_pag_set</th>\n",
       "      <th>PAY_AMT2</th>\n",
       "      <th>PAY_AMT3</th>\n",
       "      <th>PAY_AMT4</th>\n",
       "      <th>PAY_AMT5</th>\n",
       "      <th>PAY_AMT6</th>\n",
       "    </tr>\n",
       "  </thead>\n",
       "  <tbody>\n",
       "    <tr>\n",
       "      <th>0</th>\n",
       "      <td>1</td>\n",
       "      <td>14801.770104</td>\n",
       "      <td>14802.770104</td>\n",
       "      <td>163519.825034</td>\n",
       "      <td>1.839250</td>\n",
       "      <td>1.572090</td>\n",
       "      <td>36.519431</td>\n",
       "      <td>0.063257</td>\n",
       "      <td>-0.029189</td>\n",
       "      <td>-0.068557</td>\n",
       "      <td>...</td>\n",
       "      <td>49115.727961</td>\n",
       "      <td>45000.331090</td>\n",
       "      <td>41587.504963</td>\n",
       "      <td>40101.775320</td>\n",
       "      <td>5668.537264</td>\n",
       "      <td>5960.720138</td>\n",
       "      <td>5412.506057</td>\n",
       "      <td>4869.177995</td>\n",
       "      <td>4830.827052</td>\n",
       "      <td>5276.196753</td>\n",
       "    </tr>\n",
       "    <tr>\n",
       "      <th>1</th>\n",
       "      <td>2</td>\n",
       "      <td>15129.282078</td>\n",
       "      <td>15130.282078</td>\n",
       "      <td>170086.462014</td>\n",
       "      <td>1.862246</td>\n",
       "      <td>1.538593</td>\n",
       "      <td>34.806868</td>\n",
       "      <td>-0.069181</td>\n",
       "      <td>-0.202407</td>\n",
       "      <td>-0.230289</td>\n",
       "      <td>...</td>\n",
       "      <td>45633.108989</td>\n",
       "      <td>42122.600099</td>\n",
       "      <td>39473.816807</td>\n",
       "      <td>38064.427286</td>\n",
       "      <td>5660.327076</td>\n",
       "      <td>5895.200088</td>\n",
       "      <td>5103.057255</td>\n",
       "      <td>4797.786992</td>\n",
       "      <td>4778.752043</td>\n",
       "      <td>5175.665305</td>\n",
       "    </tr>\n",
       "  </tbody>\n",
       "</table>\n",
       "<p>2 rows × 25 columns</p>\n",
       "</div>"
      ],
      "text/plain": [
       "   Gênero    Unnamed: 0            ID  valor_credito  EDUCATION  MARRIAGE  \\\n",
       "0       1  14801.770104  14802.770104  163519.825034   1.839250  1.572090   \n",
       "1       2  15129.282078  15130.282078  170086.462014   1.862246  1.538593   \n",
       "\n",
       "         AGE  status_pag_set  status_pag_ago  status_pag_ago.1  ...  \\\n",
       "0  36.519431        0.063257       -0.029189         -0.068557  ...   \n",
       "1  34.806868       -0.069181       -0.202407         -0.230289  ...   \n",
       "\n",
       "      BILL_AMT3     BILL_AMT4     BILL_AMT5     BILL_AMT6  valor_pag_set  \\\n",
       "0  49115.727961  45000.331090  41587.504963  40101.775320    5668.537264   \n",
       "1  45633.108989  42122.600099  39473.816807  38064.427286    5660.327076   \n",
       "\n",
       "      PAY_AMT2     PAY_AMT3     PAY_AMT4     PAY_AMT5     PAY_AMT6  \n",
       "0  5960.720138  5412.506057  4869.177995  4830.827052  5276.196753  \n",
       "1  5895.200088  5103.057255  4797.786992  4778.752043  5175.665305  \n",
       "\n",
       "[2 rows x 25 columns]"
      ]
     },
     "execution_count": 83,
     "metadata": {},
     "output_type": "execute_result"
    }
   ],
   "source": [
    "#edpN = edp_group.astype('int64')\n",
    "#edpN\n",
    "edp_group"
   ]
  },
  {
   "cell_type": "code",
   "execution_count": 100,
   "id": "1677ac6e",
   "metadata": {},
   "outputs": [
    {
     "data": {
      "text/plain": [
       "Text(0.5, 1.0, 'DIvid by Sex')"
      ]
     },
     "execution_count": 100,
     "metadata": {},
     "output_type": "execute_result"
    },
    {
     "data": {
      "image/png": "[encoded data removed]",
      "text/plain": [
       "<Figure size 720x720 with 1 Axes>"
      ]
     },
     "metadata": {},
     "output_type": "display_data"
    }
   ],
   "source": [
    "fig, ax = plt.subplots(figsize=(10,10))\n",
    "explode = (0.05,0.01)\n",
    "ax.pie(edp_group[\"valor_credito\"], labels=edp_group[\"Gênero\"], autopct=\"%.2f%%\", shadow=True, startangle=90, colors=[\"red\",\"green\"], explode = explode);\n",
    "ax.set_title(\"DIvid by Sex\")"
   ]
  },
  {
   "cell_type": "code",
   "execution_count": 118,
   "id": "9571f04c",
   "metadata": {},
   "outputs": [],
   "source": [
    "#plotly\n",
    "from plotly.subplots import make_subplots\n",
    "fig = make_subplots(rows=1, cols=2, specs=[[{'type':'domain'},{'type':'domain'}]])\n",
    "fig.add_trace(go.Pie(labels=edp_group[\"Gênero\"], values=edp_group[\"valor_pag_set\"], name=\"April\"),1 ,1)\n",
    "fig.add_trace(go.Pie(labels=edp_group[\"Gênero\"], values=edp_group[\"PAY_AMT2\"], name=\"Setembro\"),1 ,2)\n",
    "fig.update_traces(hole=.4)\n",
    "fig.update_layout(\n",
    "    title_text = \"April and Setember\",\n",
    "    annotations = [dict(text=\"April\", x=0.2, y=0.5, font_size=14,showarrow=False),\n",
    "                   dict(text=\"Setember\", x=0.82, y=0.5, font_size=14,showarrow=False)]\n",
    "\n",
    ")\n",
    "\n",
    "fig.write_html(\"C:/Users/gusta/Desktop/DNC/Learn_python/Dataset_colabs/Extract.html\")"
   ]
  },
  {
   "cell_type": "code",
   "execution_count": null,
   "id": "163f1099",
   "metadata": {},
   "outputs": [],
   "source": []
  }
 ],
 "metadata": {
  "kernelspec": {
   "display_name": "Python 3 (ipykernel)",
   "language": "python",
   "name": "python3"
  },
  "language_info": {
   "codemirror_mode": {
    "name": "ipython",
    "version": 3
   },
   "file_extension": ".py",
   "mimetype": "text/x-python",
   "name": "python",
   "nbconvert_exporter": "python",
   "pygments_lexer": "ipython3",
   "version": "3.9.12"
  }
 },
 "nbformat": 4,
 "nbformat_minor": 5
}
