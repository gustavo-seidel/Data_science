{
 "cells": [
  {
   "cell_type": "code",
   "execution_count": 1,
   "id": "5db0af05",
   "metadata": {},
   "outputs": [
    {
     "name": "stdout",
     "output_type": "stream",
     "text": [
      "Key:nome, Value:Gustavo\n",
      "Key:idade, Value:24\n",
      "Key:cidade, Value:Curitiba\n"
     ]
    }
   ],
   "source": [
    "pessoas = [{'nome':'Gustavo','idade':24,'cidade':'Curitiba'}]\n",
    "\n",
    "for p in pessoas:\n",
    "    for k, v in p.items():\n",
    "        print(f'Key:{k}, Value:{v}')\n"
   ]
  },
  {
   "cell_type": "code",
   "execution_count": null,
   "id": "38da3bf5",
   "metadata": {},
   "outputs": [],
   "source": [
    "dicio = {}\n",
    "lista = []\n",
    "for d in range(ini, fim):\n",
    "    dicio.['Key1'] = input('Valor1 = ')\n",
    "    dicio.['Key2'] = input('Valor2 = ')\n",
    "    lista.append(dicio.copy())"
   ]
  },
  {
   "cell_type": "code",
   "execution_count": 25,
   "id": "f5eaa371",
   "metadata": {},
   "outputs": [
    {
     "name": "stdout",
     "output_type": "stream",
     "text": [
      "Cardapio\n",
      "--------------------\n",
      "lanche: R$10.9\n",
      "batata: R$5.5\n",
      "refri: R$3.9\n",
      "Quantos lanche você quer? 1\n",
      "Quantos batata você quer? 1\n",
      "Quantos refri você quer? 1\n",
      "[10.9, 5.5, 3.9]\n",
      "--------------------\n",
      "1.0 lanche..............= R$10.90\n",
      "1.0 batata..............= R$5.50\n",
      "1.0 refri...............= R$3.90\n",
      "--------------------\n",
      "O valor total foi de: R$20.30\n"
     ]
    }
   ],
   "source": [
    "cardapio = {\n",
    "            'lanche' : 10.9,\n",
    "            'batata' : 5.5,\n",
    "            'refri' : 3.9\n",
    "}\n",
    "temp = []\n",
    "recibo = []\n",
    "qtd = []\n",
    "mult = 0\n",
    "soma = 0\n",
    "#Menu\n",
    "print('Cardapio')\n",
    "print('-'*20)\n",
    "for k,v in cardapio.items():\n",
    "    print(f'{k}: R${v}')\n",
    "    \n",
    "#Entrada\n",
    "for k,v in cardapio.items():\n",
    "    mult = float(input(f'Quantos {k} você quer? '))\n",
    "    qtd.append(mult)\n",
    "    soma = soma + (mult * v)\n",
    "    \n",
    "#convercão\n",
    "valores = list(cardapio.values())\n",
    "comidas = list(cardapio.keys())\n",
    "\n",
    "#agrupamento\n",
    "for i in range(0,len(qtd)):\n",
    "    temp.append(valores[i])\n",
    "    temp.append(comidas[i])\n",
    "    temp.append(qtd[i])\n",
    "    recibo.append(temp[:])\n",
    "    temp.clear()\n",
    "print(valores)\n",
    "#Total da compra\n",
    "print('-'*20)\n",
    "\n",
    "for c in recibo:\n",
    "    print(f'{c[2]} {c[1]:.<20}= R${c[0]:4.2f}')\n",
    "print('-'*20)\n",
    "print(f'O valor total foi de: R${soma:4.2f}')"
   ]
  },
  {
   "cell_type": "code",
   "execution_count": 13,
   "id": "30dbc5ad",
   "metadata": {},
   "outputs": [
    {
     "name": "stdout",
     "output_type": "stream",
     "text": [
      "A pessoa 1 tem 29 anos e o nomde dela é Everton e mora na cidade São José\n",
      "A pessoa 3 tem 22 anos e o nomde dela é André e mora na cidade Lorena\n"
     ]
    }
   ],
   "source": [
    "pessoas = [\n",
    "          {'nome':'Everton' , 'idade':29 , 'cidade':'São José'},\n",
    "          {'nome':'Thiago' , 'idade':34 , 'cidade':'São Paulo'},\n",
    "          {'nome':'André' , 'idade':22 , 'cidade':'Lorena'}\n",
    "]\n",
    "for i,p in enumerate(pessoas):\n",
    "    if p['idade'] < 30:\n",
    "        print(f\"A pessoa {i+1} tem {p['idade']} anos e o nomde dela é {p['nome']} e mora na cidade {p['cidade']}\")"
   ]
  },
  {
   "cell_type": "code",
   "execution_count": 38,
   "id": "f475f682",
   "metadata": {},
   "outputs": [
    {
     "name": "stdout",
     "output_type": "stream",
     "text": [
      "digita a primeira nota do Gustavo: 2\n",
      "digita a segunda nota do Gustavo: 2\n",
      "digita a primeira nota do Lucas: 2\n",
      "digita a segunda nota do Lucas: 2\n",
      "digita a primeira nota do Andre: 2\n",
      "digita a segunda nota do Andre: 2\n",
      "digita a primeira nota do Ana: 2\n",
      "digita a segunda nota do Ana: 2\n",
      "digita a primeira nota do Luiz: 2\n",
      "digita a segunda nota do Luiz: 2\n",
      " A média geral foi: 2.0\n"
     ]
    }
   ],
   "source": [
    "alunos = [\n",
    "         {'nome':'Gustavo' , 'nota':['nota1',0 ,'nota2', 0] , 'media':0 , 'status':'pendente'},\n",
    "         {'nome':'Lucas' , 'nota':['nota1',0 ,'nota2', 0] , 'media':0 , 'status':'pendente'},\n",
    "         {'nome':'Andre' , 'nota':['nota1',0 ,'nota2', 0] , 'media':0 , 'status':'pendente'},\n",
    "         {'nome':'Ana' , 'nota':['nota1',0 ,'nota2', 0] , 'media':0 , 'status':'pendente'},\n",
    "         {'nome':'Luiz' , 'nota':['nota1',0 ,'nota2', 0] , 'media':0 , 'status':'pendente'}\n",
    "]\n",
    "media = 0\n",
    "mediaT = 0\n",
    "n_alunos = 5\n",
    "nota = []\n",
    "\n",
    "for i, a in enumerate(alunos):\n",
    "\n",
    "    a['nota'][1] = float(input(f\"digita a primeira nota do {a['nome']}: \"))\n",
    "    a['nota'][3] = float(input(f\"digita a segunda nota do {a['nome']}: \"))\n",
    "    a['media'] = (a['nota'][1] + a['nota'][3]) / 2\n",
    "    if a['media'] >= 7:\n",
    "        a['status'] = 'aprovado'\n",
    "    else:\n",
    "        a['status'] = 'reprovado'\n",
    "    mediaT += a['media']\n",
    "    alunos.append(a.copy())\n",
    "    if i == 4:\n",
    "        break\n",
    "print(f' A média geral foi: {mediaT/n_alunos}')\n",
    "\n",
    "\n"
   ]
  },
  {
   "cell_type": "code",
   "execution_count": 92,
   "id": "a7aa2707",
   "metadata": {},
   "outputs": [
    {
     "name": "stdout",
     "output_type": "stream",
     "text": [
      " a média é : 1.70\n",
      "__________________________________________________\n",
      "  3 maça................R$2.2\n",
      " 10 banana..............R$1.2\n",
      " O valor total é: 18.6\n",
      "__________________________________________________\n"
     ]
    }
   ],
   "source": [
    "produtos = [ {\n",
    "          'produto': 'maça',\n",
    "          'preco': 2.2\n",
    "          },\n",
    "         {\n",
    "          'produto': 'banana',\n",
    "          'preco': 1.2\n",
    "       } ]\n",
    "temp = {}\n",
    "temp2 = []\n",
    "recibo = []\n",
    "#media\n",
    "soma = 0\n",
    "media = 0\n",
    "total = 0\n",
    "\n",
    "for p in produtos:\n",
    "    for k,v in p.items():\n",
    "        if k == 'preco':\n",
    "            soma += v\n",
    "            temp[k] = v\n",
    "            recibo.append(temp.copy())\n",
    "print(f' a média é : {soma/2:4.2f}')\n",
    "print('_'*50)\n",
    "\n",
    "everton = {\n",
    "        'cliente': 'Everton',\n",
    "        'compra': [ {\n",
    "                      'produto': 'maça',\n",
    "                      'qtd' : 3\n",
    "                     },\n",
    "                    {\n",
    "                      'produto': 'banana',\n",
    "                      'qtd' : 10\n",
    "                     } ]\n",
    "}\n",
    "\n",
    "for k,v in everton.items():\n",
    "    if k == 'compra':\n",
    "        for v1,v2 in zip(v, recibo):\n",
    "            total += v1['qtd'] * v2['preco']\n",
    "            print(f\" {v1['qtd']:2} {v1['produto']:.<20}R${v2['preco']}\")\n",
    "          \n",
    "print(f' O valor total é: {total}')\n",
    "print('_'*50)"
   ]
  },
  {
   "cell_type": "code",
   "execution_count": null,
   "id": "9acb6df8",
   "metadata": {},
   "outputs": [],
   "source": []
  }
 ],
 "metadata": {
  "kernelspec": {
   "display_name": "Python 3 (ipykernel)",
   "language": "python",
   "name": "python3"
  },
  "language_info": {
   "codemirror_mode": {
    "name": "ipython",
    "version": 3
   },
   "file_extension": ".py",
   "mimetype": "text/x-python",
   "name": "python",
   "nbconvert_exporter": "python",
   "pygments_lexer": "ipython3",
   "version": "3.9.12"
  }
 },
 "nbformat": 4,
 "nbformat_minor": 5
}
