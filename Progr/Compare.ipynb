{
 "cells": [
  {
   "cell_type": "code",
   "execution_count": 3,
   "id": "1910c3d2",
   "metadata": {},
   "outputs": [
    {
     "name": "stdout",
     "output_type": "stream",
     "text": [
      "Digite um número: 2\n",
      "Digite outro número: 3\n"
     ]
    }
   ],
   "source": [
    "n1 = float(input('Digite um número: '))\n",
    "n2 = float(input('Digite outro número: '))\n",
    "if(n1 == n2):\n",
    " print('is some')\n",
    " \n",
    " "
   ]
  },
  {
   "cell_type": "code",
   "execution_count": 6,
   "id": "a4a5c3a7",
   "metadata": {},
   "outputs": [
    {
     "name": "stdout",
     "output_type": "stream",
     "text": [
      "Digite um número: 2\n",
      "Digite outro número: 3\n"
     ]
    }
   ],
   "source": [
    "n1 = float(input('Digite um número: '))\n",
    "n2 = float(input('Digite outro número: '))\n",
    "if(n1 >= n2):\n",
    " print('{} is more than {}'.format(n1,n2))"
   ]
  },
  {
   "cell_type": "code",
   "execution_count": 10,
   "id": "ced8fa03",
   "metadata": {},
   "outputs": [
    {
     "name": "stdout",
     "output_type": "stream",
     "text": [
      "How many lanches do you want?1\n",
      "How many potato do you want?1\n",
      "How much money do you have?100\n"
     ]
    }
   ],
   "source": [
    "#contants\n",
    "price_junkfood = 10.90\n",
    "price_potato = 5.4\n",
    "total_junkfood = float\n",
    "total_junkfood = float\n",
    "total = float\n",
    "\n",
    "junkfood = int(input('How many lanches do you want?'))\n",
    "potato = int(input('How many potato do you want?'))\n",
    "money = float(input('How much money do you have?'))\n",
    "\n",
    "total_junkfood = price_junkfood * junkfood\n",
    "total_junkfood = price_potato * potato\n",
    "total = total_junkfood + total_junkfood\n",
    "if(money < total):\n",
    "    print('do you have ${0:5.3f} your cont is ${1:5.3f} fault ${2:5.4f} :'.format(money,total,(total-money)))"
   ]
  },
  {
   "cell_type": "code",
   "execution_count": 13,
   "id": "ac66289b",
   "metadata": {},
   "outputs": [
    {
     "name": "stdout",
     "output_type": "stream",
     "text": [
      "Type a number:1\n",
      "This input is a number\n"
     ]
    }
   ],
   "source": [
    "n1 = input('Type a number:')\n",
    "\n",
    "if(n1.isnumeric()):\n",
    "    print('This input is a number')\n",
    "else:\n",
    "    print('This input not is number, try again')"
   ]
  },
  {
   "cell_type": "code",
   "execution_count": 20,
   "id": "afee6e76",
   "metadata": {},
   "outputs": [
    {
     "name": "stdout",
     "output_type": "stream",
     "text": [
      "Type a number:122\n",
      "is par\n"
     ]
    }
   ],
   "source": [
    "n1 = int(input('Type a number:'))\n",
    "if(n1//2):\n",
    "  print('is par')\n"
   ]
  },
  {
   "cell_type": "code",
   "execution_count": 23,
   "id": "2e6c7568",
   "metadata": {},
   "outputs": [
    {
     "name": "stdout",
     "output_type": "stream",
     "text": [
      "Type a int number:3\n",
      "Type more one int number:2\n"
     ]
    }
   ],
   "source": [
    "n1 = int(input('Type a int number:'))\n",
    "n2 = int(input('Type more one int number:'))\n",
    "if(n1%n2 == 0):\n",
    "    print('Is divide')"
   ]
  },
  {
   "cell_type": "code",
   "execution_count": 35,
   "id": "358e96ad",
   "metadata": {},
   "outputs": [
    {
     "name": "stdout",
     "output_type": "stream",
     "text": [
      "Type a int number:10\n",
      "Type more one int number:2\n",
      "--------------------\n",
      "1.sum\n",
      "2.multiplication\n",
      "3.divid\n",
      "4.substraction\n",
      "5.exponencial\n",
      "--------------------\n",
      "Type the number about the operator:5\n",
      "10.0000 ** 2.0000 = 100.0000\n"
     ]
    }
   ],
   "source": [
    "n1 = float(input('Type a int number:'))\n",
    "n2 = float(input('Type more one int number:'))\n",
    "print('-'*20)\n",
    "print('1.sum')\n",
    "print('2.multiplication')\n",
    "print('3.divid')\n",
    "print('4.substraction')\n",
    "print('5.exponencial')\n",
    "print('-'*20)\n",
    "operator = int(input('Type the number about the operator:'))\n",
    "\n",
    "#calculator\n",
    "summ = n1 + n2\n",
    "mult = n1*n2\n",
    "div = n1/n2\n",
    "sub = n1 - n2\n",
    "expo = n1**n2\n",
    "\n",
    "if(operator == 1):\n",
    "    print('{0:5.4f} + {1:5.4f} = {2:5.4f}'.format(n1,n2,summ))\n",
    "elif(operator == 2):\n",
    "    print('{0:5.4f} * {1:5.4f} = {2:5.4f}'.format(n1,n2,mult))\n",
    "elif(operator == 3):\n",
    "    print('{0:5.4f} / {1:5.4f} = {2:5.4f}'.format(n1,n2,div))\n",
    "elif(operator == 4):\n",
    "    print('{0:5.4f} - {1:5.4f} = {2:5.4f}'.format(n1,n2,sub))\n",
    "elif(operator == 5):\n",
    "    print('{0:5.4f} ** {1:5.4f} = {2:5.4f}'.format(n1,n2,expo))\n"
   ]
  },
  {
   "cell_type": "code",
   "execution_count": null,
   "id": "df59aee3",
   "metadata": {},
   "outputs": [],
   "source": []
  },
  {
   "cell_type": "code",
   "execution_count": null,
   "id": "3e228258",
   "metadata": {},
   "outputs": [],
   "source": []
  }
 ],
 "metadata": {
  "kernelspec": {
   "display_name": "Python 3 (ipykernel)",
   "language": "python",
   "name": "python3"
  },
  "language_info": {
   "codemirror_mode": {
    "name": "ipython",
    "version": 3
   },
   "file_extension": ".py",
   "mimetype": "text/x-python",
   "name": "python",
   "nbconvert_exporter": "python",
   "pygments_lexer": "ipython3",
   "version": "3.9.12"
  }
 },
 "nbformat": 4,
 "nbformat_minor": 5
}
