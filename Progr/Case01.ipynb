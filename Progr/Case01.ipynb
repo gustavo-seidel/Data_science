{
 "cells": [
  {
   "cell_type": "code",
   "execution_count": 109,
   "id": "43739b81",
   "metadata": {},
   "outputs": [
    {
     "name": "stdout",
     "output_type": "stream",
     "text": [
      "Questão 1 - Uma empresa te enviou 3 listas, uma representa a largura, outra representa a altura e a terceira representa a área em m2 de determinado terreno, todas estão ordenadas entretanto tem alguns valores faltantes que precisam ser preenchidos, preencha os valores faltantes: Todos os terrenos dessa empresa são retangulares e você pode utilizar a fórmula abaixo: a = b. h (área = largura * altura) Utilize as listas abaixo: area = [200,'null',720,1500,1000,275,'null',1200,2400,'null'] altura = ['null',30,40,30,10,25,33,'null',12,20] largura = [20,20,'null',50,100,'null',30,100,200,10]\n"
     ]
    }
   ],
   "source": [
    "print(\"Questão 1 - Uma empresa te enviou 3 listas, uma representa a largura, outra representa a altura e a terceira representa a área em m2 de determinado terreno, todas estão ordenadas entretanto tem alguns valores faltantes que precisam ser preenchidos, preencha os valores faltantes: Todos os terrenos dessa empresa são retangulares e você pode utilizar a fórmula abaixo: a = b. h (área = largura * altura) Utilize as listas abaixo: area = [200,'null',720,1500,1000,275,'null',1200,2400,'null'] altura = ['null',30,40,30,10,25,33,'null',12,20] largura = [20,20,'null',50,100,'null',30,100,200,10]\")"
   ]
  },
  {
   "cell_type": "code",
   "execution_count": 123,
   "id": "d9359b8f",
   "metadata": {},
   "outputs": [
    {
     "name": "stdout",
     "output_type": "stream",
     "text": [
      "[200, 600, 720, 1500, 1000, 275, 990, 1200, 2400, 200]\n",
      "[10.0, 30, 40, 30, 10, 25, 33, 12.0, 12, 20]\n",
      "[20, 20, 18.0, 50, 100, 11.0, 30, 100, 200, 10]\n",
      "A largura: 5 é igual a altura: 5\n",
      "A area total é: 9085m2\n",
      "A média dos terrenos é: 908.5m2\n"
     ]
    }
   ],
   "source": [
    "area = [200,'null',720,1500,1000,275,'null',1200,2400,'null']\n",
    "altura = ['null',30,40,30,10,25,33,'null',12,20]\n",
    "largura = [20,20,'null',50,100,'null',30,100,200,10]\n",
    "pos = 0\n",
    "contA = 0\n",
    "contL = 0\n",
    "def C_area(a,b,h):\n",
    "    if a == 'null':\n",
    "        a = b * h\n",
    "        return a\n",
    "    if h == 'null':\n",
    "        h = a / b\n",
    "        return h\n",
    "    if b == 'null':\n",
    "        b = a / h\n",
    "        return b\n",
    "    \n",
    "\n",
    "for v1,v2,v3 in zip(area, altura, largura):\n",
    "    if v1 == 'null':\n",
    "        area[pos] = C_area(v1,v3,v2)\n",
    "    if v3 == 'null':\n",
    "        largura[pos] = C_area(v1,v3,v2)\n",
    "    if v2 == 'null':\n",
    "        altura[pos] = C_area(v1,v3,v2)\n",
    "    pos += 1\n",
    "print(area)\n",
    "print(altura)\n",
    "print(largura)\n",
    "\n",
    "#verificar se altura maior que largura\n",
    "for v1,v2,v3 in zip(area, altura, largura):\n",
    "    if v2 > v3:\n",
    "        contA += 1\n",
    "    if v3 > v2:\n",
    "        contL += 1\n",
    "if contA > contL:\n",
    "    print(f' A  altura: {contA} é maior que largura:{contL}')\n",
    "elif contA < contL:\n",
    "    print(f' A  lagura: {contL} é maior que altura:{contA}')\n",
    "else:\n",
    "    print(f'A largura: {contL} é igual a altura: {contA}')\n",
    "\n",
    "#metros totais e média terreno\n",
    "areaT = 0\n",
    "mediaT = 0\n",
    "for a in area:\n",
    "    areaT += a\n",
    "    mediaT = areaT/len(area)\n",
    "print(f'A area total é: {areaT}m2')\n",
    "print(f'A média dos terrenos é: {mediaT}m2')"
   ]
  },
  {
   "cell_type": "code",
   "execution_count": null,
   "id": "730b14fa",
   "metadata": {},
   "outputs": [],
   "source": []
  }
 ],
 "metadata": {
  "kernelspec": {
   "display_name": "Python 3 (ipykernel)",
   "language": "python",
   "name": "python3"
  },
  "language_info": {
   "codemirror_mode": {
    "name": "ipython",
    "version": 3
   },
   "file_extension": ".py",
   "mimetype": "text/x-python",
   "name": "python",
   "nbconvert_exporter": "python",
   "pygments_lexer": "ipython3",
   "version": "3.9.12"
  }
 },
 "nbformat": 4,
 "nbformat_minor": 5
}
