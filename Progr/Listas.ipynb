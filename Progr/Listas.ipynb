{
 "cells": [
  {
   "cell_type": "code",
   "execution_count": 12,
   "id": "86b893d0",
   "metadata": {},
   "outputs": [
    {
     "name": "stdout",
     "output_type": "stream",
     "text": [
      "[0, 3, 4, 5, 6, 10]\n",
      "[0, 1, 3, 4, 5, 6, 10]\n"
     ]
    }
   ],
   "source": [
    "l1 = [0,1,3,5,6]\n",
    "l1.insert(3,4)\n",
    "l1.insert(1,10)\n",
    "l1.sort()\n",
    "l2 = l1[:]\n",
    "l2.pop(1)\n",
    "print(l2)\n",
    "print(l1)"
   ]
  },
  {
   "cell_type": "code",
   "execution_count": 40,
   "id": "27207fa4",
   "metadata": {},
   "outputs": [
    {
     "name": "stdout",
     "output_type": "stream",
     "text": [
      "How many Lanche at 10.9 do you want?1\n",
      "How many Refri at 5.4 do you want?1\n",
      "How many Batata at 8.3 do you want?1\n",
      "How many Bombom at 3.4 do you want?1\n",
      "valor da compra foi de:28.000\n"
     ]
    }
   ],
   "source": [
    "preco = (10.9, 'Lanche', 5.40, 'Refri', 8.30, 'Batata', 3.40, 'Bombom')\n",
    "qtdComprada = []\n",
    "qtd = 0\n",
    "soma = 0\n",
    "for i in range(0, len(preco),2):\n",
    "   qtd  = int(input('How many {} at {} do you want?'.format(preco[i+1],preco[i])))\n",
    "   soma = soma + (qtd * preco[i]) \n",
    "print( 'valor da compra foi de:{0:2f}'.format(soma))"
   ]
  },
  {
   "cell_type": "code",
   "execution_count": 52,
   "id": "04ee11c0",
   "metadata": {},
   "outputs": [
    {
     "name": "stdout",
     "output_type": "stream",
     "text": [
      "Type zero to exit\n",
      "Type one product to append at store: maca\n",
      "Type one product to append at store: maca\n",
      "The item as been included! \n",
      "Type one product to append at store: 0\n",
      "The list typed is: maca\n"
     ]
    }
   ],
   "source": [
    "prods = []\n",
    "print('Type zero to exit')\n",
    "while 1:\n",
    "    prod = input('Type one product to append at store: ')\n",
    "    if prod == '0':\n",
    "        break\n",
    "    for i in prods:\n",
    "        if i == prod:\n",
    "            print('The item as been included! ')\n",
    "            prods.remove(prod)\n",
    "            break\n",
    "    prods.append(prod)\n",
    "for i in prods:\n",
    "    print(f'The list typed is: {i}')    \n"
   ]
  },
  {
   "cell_type": "code",
   "execution_count": null,
   "id": "e995acdf",
   "metadata": {},
   "outputs": [],
   "source": []
  }
 ],
 "metadata": {
  "kernelspec": {
   "display_name": "Python 3 (ipykernel)",
   "language": "python",
   "name": "python3"
  },
  "language_info": {
   "codemirror_mode": {
    "name": "ipython",
    "version": 3
   },
   "file_extension": ".py",
   "mimetype": "text/x-python",
   "name": "python",
   "nbconvert_exporter": "python",
   "pygments_lexer": "ipython3",
   "version": "3.9.12"
  }
 },
 "nbformat": 4,
 "nbformat_minor": 5
}
